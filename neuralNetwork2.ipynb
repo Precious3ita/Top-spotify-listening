{
  "nbformat": 4,
  "nbformat_minor": 0,
  "metadata": {
    "colab": {
      "provenance": [],
      "authorship_tag": "ABX9TyMOvxjpJbAykWeOXxbutXw8",
      "include_colab_link": true
    },
    "kernelspec": {
      "name": "python3",
      "display_name": "Python 3"
    },
    "language_info": {
      "name": "python"
    }
  },
  "cells": [
    {
      "cell_type": "markdown",
      "metadata": {
        "id": "view-in-github",
        "colab_type": "text"
      },
      "source": [
        "<a href=\"https://colab.research.google.com/github/Precious3ita/Top-spotify-listening/blob/main/neuralNetwork2.ipynb\" target=\"_parent\"><img src=\"https://colab.research.google.com/assets/colab-badge.svg\" alt=\"Open In Colab\"/></a>"
      ]
    },
    {
      "cell_type": "code",
      "execution_count": 2,
      "metadata": {
        "colab": {
          "base_uri": "https://localhost:8080/",
          "height": 206
        },
        "id": "d5U3LdAfOUJD",
        "outputId": "e813156c-d7c6-42dc-8b05-ea1df363872c"
      },
      "outputs": [
        {
          "output_type": "execute_result",
          "data": {
            "text/plain": [
              "     X1     X2     X3      X4   X5  X6   X7  X8     Y1     Y2\n",
              "0  0.98  514.5  294.0  110.25  7.0   2  0.0   0  15.55  21.33\n",
              "1  0.98  514.5  294.0  110.25  7.0   3  0.0   0  15.55  21.33\n",
              "2  0.98  514.5  294.0  110.25  7.0   4  0.0   0  15.55  21.33\n",
              "3  0.98  514.5  294.0  110.25  7.0   5  0.0   0  15.55  21.33\n",
              "4  0.90  563.5  318.5  122.50  7.0   2  0.0   0  20.84  28.28"
            ],
            "text/html": [
              "\n",
              "  <div id=\"df-62a4cb1a-b481-482d-9572-9c5491013d78\" class=\"colab-df-container\">\n",
              "    <div>\n",
              "<style scoped>\n",
              "    .dataframe tbody tr th:only-of-type {\n",
              "        vertical-align: middle;\n",
              "    }\n",
              "\n",
              "    .dataframe tbody tr th {\n",
              "        vertical-align: top;\n",
              "    }\n",
              "\n",
              "    .dataframe thead th {\n",
              "        text-align: right;\n",
              "    }\n",
              "</style>\n",
              "<table border=\"1\" class=\"dataframe\">\n",
              "  <thead>\n",
              "    <tr style=\"text-align: right;\">\n",
              "      <th></th>\n",
              "      <th>X1</th>\n",
              "      <th>X2</th>\n",
              "      <th>X3</th>\n",
              "      <th>X4</th>\n",
              "      <th>X5</th>\n",
              "      <th>X6</th>\n",
              "      <th>X7</th>\n",
              "      <th>X8</th>\n",
              "      <th>Y1</th>\n",
              "      <th>Y2</th>\n",
              "    </tr>\n",
              "  </thead>\n",
              "  <tbody>\n",
              "    <tr>\n",
              "      <th>0</th>\n",
              "      <td>0.98</td>\n",
              "      <td>514.5</td>\n",
              "      <td>294.0</td>\n",
              "      <td>110.25</td>\n",
              "      <td>7.0</td>\n",
              "      <td>2</td>\n",
              "      <td>0.0</td>\n",
              "      <td>0</td>\n",
              "      <td>15.55</td>\n",
              "      <td>21.33</td>\n",
              "    </tr>\n",
              "    <tr>\n",
              "      <th>1</th>\n",
              "      <td>0.98</td>\n",
              "      <td>514.5</td>\n",
              "      <td>294.0</td>\n",
              "      <td>110.25</td>\n",
              "      <td>7.0</td>\n",
              "      <td>3</td>\n",
              "      <td>0.0</td>\n",
              "      <td>0</td>\n",
              "      <td>15.55</td>\n",
              "      <td>21.33</td>\n",
              "    </tr>\n",
              "    <tr>\n",
              "      <th>2</th>\n",
              "      <td>0.98</td>\n",
              "      <td>514.5</td>\n",
              "      <td>294.0</td>\n",
              "      <td>110.25</td>\n",
              "      <td>7.0</td>\n",
              "      <td>4</td>\n",
              "      <td>0.0</td>\n",
              "      <td>0</td>\n",
              "      <td>15.55</td>\n",
              "      <td>21.33</td>\n",
              "    </tr>\n",
              "    <tr>\n",
              "      <th>3</th>\n",
              "      <td>0.98</td>\n",
              "      <td>514.5</td>\n",
              "      <td>294.0</td>\n",
              "      <td>110.25</td>\n",
              "      <td>7.0</td>\n",
              "      <td>5</td>\n",
              "      <td>0.0</td>\n",
              "      <td>0</td>\n",
              "      <td>15.55</td>\n",
              "      <td>21.33</td>\n",
              "    </tr>\n",
              "    <tr>\n",
              "      <th>4</th>\n",
              "      <td>0.90</td>\n",
              "      <td>563.5</td>\n",
              "      <td>318.5</td>\n",
              "      <td>122.50</td>\n",
              "      <td>7.0</td>\n",
              "      <td>2</td>\n",
              "      <td>0.0</td>\n",
              "      <td>0</td>\n",
              "      <td>20.84</td>\n",
              "      <td>28.28</td>\n",
              "    </tr>\n",
              "  </tbody>\n",
              "</table>\n",
              "</div>\n",
              "    <div class=\"colab-df-buttons\">\n",
              "\n",
              "  <div class=\"colab-df-container\">\n",
              "    <button class=\"colab-df-convert\" onclick=\"convertToInteractive('df-62a4cb1a-b481-482d-9572-9c5491013d78')\"\n",
              "            title=\"Convert this dataframe to an interactive table.\"\n",
              "            style=\"display:none;\">\n",
              "\n",
              "  <svg xmlns=\"http://www.w3.org/2000/svg\" height=\"24px\" viewBox=\"0 -960 960 960\">\n",
              "    <path d=\"M120-120v-720h720v720H120Zm60-500h600v-160H180v160Zm220 220h160v-160H400v160Zm0 220h160v-160H400v160ZM180-400h160v-160H180v160Zm440 0h160v-160H620v160ZM180-180h160v-160H180v160Zm440 0h160v-160H620v160Z\"/>\n",
              "  </svg>\n",
              "    </button>\n",
              "\n",
              "  <style>\n",
              "    .colab-df-container {\n",
              "      display:flex;\n",
              "      gap: 12px;\n",
              "    }\n",
              "\n",
              "    .colab-df-convert {\n",
              "      background-color: #E8F0FE;\n",
              "      border: none;\n",
              "      border-radius: 50%;\n",
              "      cursor: pointer;\n",
              "      display: none;\n",
              "      fill: #1967D2;\n",
              "      height: 32px;\n",
              "      padding: 0 0 0 0;\n",
              "      width: 32px;\n",
              "    }\n",
              "\n",
              "    .colab-df-convert:hover {\n",
              "      background-color: #E2EBFA;\n",
              "      box-shadow: 0px 1px 2px rgba(60, 64, 67, 0.3), 0px 1px 3px 1px rgba(60, 64, 67, 0.15);\n",
              "      fill: #174EA6;\n",
              "    }\n",
              "\n",
              "    .colab-df-buttons div {\n",
              "      margin-bottom: 4px;\n",
              "    }\n",
              "\n",
              "    [theme=dark] .colab-df-convert {\n",
              "      background-color: #3B4455;\n",
              "      fill: #D2E3FC;\n",
              "    }\n",
              "\n",
              "    [theme=dark] .colab-df-convert:hover {\n",
              "      background-color: #434B5C;\n",
              "      box-shadow: 0px 1px 3px 1px rgba(0, 0, 0, 0.15);\n",
              "      filter: drop-shadow(0px 1px 2px rgba(0, 0, 0, 0.3));\n",
              "      fill: #FFFFFF;\n",
              "    }\n",
              "  </style>\n",
              "\n",
              "    <script>\n",
              "      const buttonEl =\n",
              "        document.querySelector('#df-62a4cb1a-b481-482d-9572-9c5491013d78 button.colab-df-convert');\n",
              "      buttonEl.style.display =\n",
              "        google.colab.kernel.accessAllowed ? 'block' : 'none';\n",
              "\n",
              "      async function convertToInteractive(key) {\n",
              "        const element = document.querySelector('#df-62a4cb1a-b481-482d-9572-9c5491013d78');\n",
              "        const dataTable =\n",
              "          await google.colab.kernel.invokeFunction('convertToInteractive',\n",
              "                                                    [key], {});\n",
              "        if (!dataTable) return;\n",
              "\n",
              "        const docLinkHtml = 'Like what you see? Visit the ' +\n",
              "          '<a target=\"_blank\" href=https://colab.research.google.com/notebooks/data_table.ipynb>data table notebook</a>'\n",
              "          + ' to learn more about interactive tables.';\n",
              "        element.innerHTML = '';\n",
              "        dataTable['output_type'] = 'display_data';\n",
              "        await google.colab.output.renderOutput(dataTable, element);\n",
              "        const docLink = document.createElement('div');\n",
              "        docLink.innerHTML = docLinkHtml;\n",
              "        element.appendChild(docLink);\n",
              "      }\n",
              "    </script>\n",
              "  </div>\n",
              "\n",
              "\n",
              "    <div id=\"df-495febca-0924-4c75-92dd-4ff2f808b07a\">\n",
              "      <button class=\"colab-df-quickchart\" onclick=\"quickchart('df-495febca-0924-4c75-92dd-4ff2f808b07a')\"\n",
              "                title=\"Suggest charts\"\n",
              "                style=\"display:none;\">\n",
              "\n",
              "<svg xmlns=\"http://www.w3.org/2000/svg\" height=\"24px\"viewBox=\"0 0 24 24\"\n",
              "     width=\"24px\">\n",
              "    <g>\n",
              "        <path d=\"M19 3H5c-1.1 0-2 .9-2 2v14c0 1.1.9 2 2 2h14c1.1 0 2-.9 2-2V5c0-1.1-.9-2-2-2zM9 17H7v-7h2v7zm4 0h-2V7h2v10zm4 0h-2v-4h2v4z\"/>\n",
              "    </g>\n",
              "</svg>\n",
              "      </button>\n",
              "\n",
              "<style>\n",
              "  .colab-df-quickchart {\n",
              "      --bg-color: #E8F0FE;\n",
              "      --fill-color: #1967D2;\n",
              "      --hover-bg-color: #E2EBFA;\n",
              "      --hover-fill-color: #174EA6;\n",
              "      --disabled-fill-color: #AAA;\n",
              "      --disabled-bg-color: #DDD;\n",
              "  }\n",
              "\n",
              "  [theme=dark] .colab-df-quickchart {\n",
              "      --bg-color: #3B4455;\n",
              "      --fill-color: #D2E3FC;\n",
              "      --hover-bg-color: #434B5C;\n",
              "      --hover-fill-color: #FFFFFF;\n",
              "      --disabled-bg-color: #3B4455;\n",
              "      --disabled-fill-color: #666;\n",
              "  }\n",
              "\n",
              "  .colab-df-quickchart {\n",
              "    background-color: var(--bg-color);\n",
              "    border: none;\n",
              "    border-radius: 50%;\n",
              "    cursor: pointer;\n",
              "    display: none;\n",
              "    fill: var(--fill-color);\n",
              "    height: 32px;\n",
              "    padding: 0;\n",
              "    width: 32px;\n",
              "  }\n",
              "\n",
              "  .colab-df-quickchart:hover {\n",
              "    background-color: var(--hover-bg-color);\n",
              "    box-shadow: 0 1px 2px rgba(60, 64, 67, 0.3), 0 1px 3px 1px rgba(60, 64, 67, 0.15);\n",
              "    fill: var(--button-hover-fill-color);\n",
              "  }\n",
              "\n",
              "  .colab-df-quickchart-complete:disabled,\n",
              "  .colab-df-quickchart-complete:disabled:hover {\n",
              "    background-color: var(--disabled-bg-color);\n",
              "    fill: var(--disabled-fill-color);\n",
              "    box-shadow: none;\n",
              "  }\n",
              "\n",
              "  .colab-df-spinner {\n",
              "    border: 2px solid var(--fill-color);\n",
              "    border-color: transparent;\n",
              "    border-bottom-color: var(--fill-color);\n",
              "    animation:\n",
              "      spin 1s steps(1) infinite;\n",
              "  }\n",
              "\n",
              "  @keyframes spin {\n",
              "    0% {\n",
              "      border-color: transparent;\n",
              "      border-bottom-color: var(--fill-color);\n",
              "      border-left-color: var(--fill-color);\n",
              "    }\n",
              "    20% {\n",
              "      border-color: transparent;\n",
              "      border-left-color: var(--fill-color);\n",
              "      border-top-color: var(--fill-color);\n",
              "    }\n",
              "    30% {\n",
              "      border-color: transparent;\n",
              "      border-left-color: var(--fill-color);\n",
              "      border-top-color: var(--fill-color);\n",
              "      border-right-color: var(--fill-color);\n",
              "    }\n",
              "    40% {\n",
              "      border-color: transparent;\n",
              "      border-right-color: var(--fill-color);\n",
              "      border-top-color: var(--fill-color);\n",
              "    }\n",
              "    60% {\n",
              "      border-color: transparent;\n",
              "      border-right-color: var(--fill-color);\n",
              "    }\n",
              "    80% {\n",
              "      border-color: transparent;\n",
              "      border-right-color: var(--fill-color);\n",
              "      border-bottom-color: var(--fill-color);\n",
              "    }\n",
              "    90% {\n",
              "      border-color: transparent;\n",
              "      border-bottom-color: var(--fill-color);\n",
              "    }\n",
              "  }\n",
              "</style>\n",
              "\n",
              "      <script>\n",
              "        async function quickchart(key) {\n",
              "          const quickchartButtonEl =\n",
              "            document.querySelector('#' + key + ' button');\n",
              "          quickchartButtonEl.disabled = true;  // To prevent multiple clicks.\n",
              "          quickchartButtonEl.classList.add('colab-df-spinner');\n",
              "          try {\n",
              "            const charts = await google.colab.kernel.invokeFunction(\n",
              "                'suggestCharts', [key], {});\n",
              "          } catch (error) {\n",
              "            console.error('Error during call to suggestCharts:', error);\n",
              "          }\n",
              "          quickchartButtonEl.classList.remove('colab-df-spinner');\n",
              "          quickchartButtonEl.classList.add('colab-df-quickchart-complete');\n",
              "        }\n",
              "        (() => {\n",
              "          let quickchartButtonEl =\n",
              "            document.querySelector('#df-495febca-0924-4c75-92dd-4ff2f808b07a button');\n",
              "          quickchartButtonEl.style.display =\n",
              "            google.colab.kernel.accessAllowed ? 'block' : 'none';\n",
              "        })();\n",
              "      </script>\n",
              "    </div>\n",
              "\n",
              "    </div>\n",
              "  </div>\n"
            ],
            "application/vnd.google.colaboratory.intrinsic+json": {
              "type": "dataframe",
              "variable_name": "df",
              "summary": "{\n  \"name\": \"df\",\n  \"rows\": 768,\n  \"fields\": [\n    {\n      \"column\": \"X1\",\n      \"properties\": {\n        \"dtype\": \"number\",\n        \"std\": 0.10577747587475206,\n        \"min\": 0.62,\n        \"max\": 0.98,\n        \"num_unique_values\": 12,\n        \"samples\": [\n          0.64,\n          0.66,\n          0.98\n        ],\n        \"semantic_type\": \"\",\n        \"description\": \"\"\n      }\n    },\n    {\n      \"column\": \"X2\",\n      \"properties\": {\n        \"dtype\": \"number\",\n        \"std\": 88.08611605586826,\n        \"min\": 514.5,\n        \"max\": 808.5,\n        \"num_unique_values\": 12,\n        \"samples\": [\n          784.0,\n          759.5,\n          514.5\n        ],\n        \"semantic_type\": \"\",\n        \"description\": \"\"\n      }\n    },\n    {\n      \"column\": \"X3\",\n      \"properties\": {\n        \"dtype\": \"number\",\n        \"std\": 43.6264814379949,\n        \"min\": 245.0,\n        \"max\": 416.5,\n        \"num_unique_values\": 7,\n        \"samples\": [\n          294.0,\n          318.5,\n          269.5\n        ],\n        \"semantic_type\": \"\",\n        \"description\": \"\"\n      }\n    },\n    {\n      \"column\": \"X4\",\n      \"properties\": {\n        \"dtype\": \"number\",\n        \"std\": 45.165950222920344,\n        \"min\": 110.25,\n        \"max\": 220.5,\n        \"num_unique_values\": 4,\n        \"samples\": [\n          122.5,\n          220.5,\n          110.25\n        ],\n        \"semantic_type\": \"\",\n        \"description\": \"\"\n      }\n    },\n    {\n      \"column\": \"X5\",\n      \"properties\": {\n        \"dtype\": \"number\",\n        \"std\": 1.7511404367453496,\n        \"min\": 3.5,\n        \"max\": 7.0,\n        \"num_unique_values\": 2,\n        \"samples\": [\n          3.5,\n          7.0\n        ],\n        \"semantic_type\": \"\",\n        \"description\": \"\"\n      }\n    },\n    {\n      \"column\": \"X6\",\n      \"properties\": {\n        \"dtype\": \"number\",\n        \"std\": 1,\n        \"min\": 2,\n        \"max\": 5,\n        \"num_unique_values\": 4,\n        \"samples\": [\n          3,\n          5\n        ],\n        \"semantic_type\": \"\",\n        \"description\": \"\"\n      }\n    },\n    {\n      \"column\": \"X7\",\n      \"properties\": {\n        \"dtype\": \"number\",\n        \"std\": 0.13322056291470877,\n        \"min\": 0.0,\n        \"max\": 0.4,\n        \"num_unique_values\": 4,\n        \"samples\": [\n          0.1,\n          0.4\n        ],\n        \"semantic_type\": \"\",\n        \"description\": \"\"\n      }\n    },\n    {\n      \"column\": \"X8\",\n      \"properties\": {\n        \"dtype\": \"number\",\n        \"std\": 1,\n        \"min\": 0,\n        \"max\": 5,\n        \"num_unique_values\": 6,\n        \"samples\": [\n          0,\n          1\n        ],\n        \"semantic_type\": \"\",\n        \"description\": \"\"\n      }\n    },\n    {\n      \"column\": \"Y1\",\n      \"properties\": {\n        \"dtype\": \"number\",\n        \"std\": 10.090195732006162,\n        \"min\": 6.01,\n        \"max\": 43.1,\n        \"num_unique_values\": 586,\n        \"samples\": [\n          16.47,\n          24.94\n        ],\n        \"semantic_type\": \"\",\n        \"description\": \"\"\n      }\n    },\n    {\n      \"column\": \"Y2\",\n      \"properties\": {\n        \"dtype\": \"number\",\n        \"std\": 9.513305562326163,\n        \"min\": 10.9,\n        \"max\": 48.03,\n        \"num_unique_values\": 636,\n        \"samples\": [\n          21.09,\n          20.82\n        ],\n        \"semantic_type\": \"\",\n        \"description\": \"\"\n      }\n    }\n  ]\n}"
            }
          },
          "metadata": {},
          "execution_count": 2
        }
      ],
      "source": [
        "import pandas as pd\n",
        "import numpy as np\n",
        "import matplotlib.pyplot as plt\n",
        "from sklearn.model_selection import train_test_split\n",
        "from sklearn.preprocessing import StandardScaler\n",
        "import tensorflow as tf\n",
        "from tensorflow.keras import layers, models, callbacks\n",
        "\n",
        "# Load\n",
        "df = pd.read_csv(\"ENB2012_data.csv\")\n",
        "df.head()\n"
      ]
    },
    {
      "cell_type": "code",
      "source": [
        "df.columns"
      ],
      "metadata": {
        "colab": {
          "base_uri": "https://localhost:8080/"
        },
        "id": "KWdbBRmTSXHG",
        "outputId": "d8d709d8-6d10-421c-c9cb-8fb0a2ab1b7e"
      },
      "execution_count": 3,
      "outputs": [
        {
          "output_type": "execute_result",
          "data": {
            "text/plain": [
              "Index(['X1', 'X2', 'X3', 'X4', 'X5', 'X6', 'X7', 'X8', 'Y1', 'Y2'], dtype='object')"
            ]
          },
          "metadata": {},
          "execution_count": 3
        }
      ]
    },
    {
      "cell_type": "code",
      "source": [
        "df.info()"
      ],
      "metadata": {
        "colab": {
          "base_uri": "https://localhost:8080/"
        },
        "id": "ZWnCBXgaSdq0",
        "outputId": "0fb523d6-6ea4-475f-b857-ef281935586a"
      },
      "execution_count": 4,
      "outputs": [
        {
          "output_type": "stream",
          "name": "stdout",
          "text": [
            "<class 'pandas.core.frame.DataFrame'>\n",
            "RangeIndex: 768 entries, 0 to 767\n",
            "Data columns (total 10 columns):\n",
            " #   Column  Non-Null Count  Dtype  \n",
            "---  ------  --------------  -----  \n",
            " 0   X1      768 non-null    float64\n",
            " 1   X2      768 non-null    float64\n",
            " 2   X3      768 non-null    float64\n",
            " 3   X4      768 non-null    float64\n",
            " 4   X5      768 non-null    float64\n",
            " 5   X6      768 non-null    int64  \n",
            " 6   X7      768 non-null    float64\n",
            " 7   X8      768 non-null    int64  \n",
            " 8   Y1      768 non-null    float64\n",
            " 9   Y2      768 non-null    float64\n",
            "dtypes: float64(8), int64(2)\n",
            "memory usage: 60.1 KB\n"
          ]
        }
      ]
    },
    {
      "cell_type": "code",
      "source": [
        "print(df.shape)\n",
        "print(df.isna().sum())   # missing values\n",
        "print(df.describe())\n",
        "\n",
        "# Correlation with target\n",
        "print(df.corr()['Y1'].sort_values(ascending=False))\n"
      ],
      "metadata": {
        "colab": {
          "base_uri": "https://localhost:8080/"
        },
        "id": "yAQiNRqQSx77",
        "outputId": "d5ea1452-953a-4015-e2f1-75e0b8260c09"
      },
      "execution_count": 5,
      "outputs": [
        {
          "output_type": "stream",
          "name": "stdout",
          "text": [
            "(768, 10)\n",
            "X1    0\n",
            "X2    0\n",
            "X3    0\n",
            "X4    0\n",
            "X5    0\n",
            "X6    0\n",
            "X7    0\n",
            "X8    0\n",
            "Y1    0\n",
            "Y2    0\n",
            "dtype: int64\n",
            "               X1          X2          X3          X4         X5          X6  \\\n",
            "count  768.000000  768.000000  768.000000  768.000000  768.00000  768.000000   \n",
            "mean     0.764167  671.708333  318.500000  176.604167    5.25000    3.500000   \n",
            "std      0.105777   88.086116   43.626481   45.165950    1.75114    1.118763   \n",
            "min      0.620000  514.500000  245.000000  110.250000    3.50000    2.000000   \n",
            "25%      0.682500  606.375000  294.000000  140.875000    3.50000    2.750000   \n",
            "50%      0.750000  673.750000  318.500000  183.750000    5.25000    3.500000   \n",
            "75%      0.830000  741.125000  343.000000  220.500000    7.00000    4.250000   \n",
            "max      0.980000  808.500000  416.500000  220.500000    7.00000    5.000000   \n",
            "\n",
            "               X7         X8          Y1          Y2  \n",
            "count  768.000000  768.00000  768.000000  768.000000  \n",
            "mean     0.234375    2.81250   22.307201   24.587760  \n",
            "std      0.133221    1.55096   10.090196    9.513306  \n",
            "min      0.000000    0.00000    6.010000   10.900000  \n",
            "25%      0.100000    1.75000   12.992500   15.620000  \n",
            "50%      0.250000    3.00000   18.950000   22.080000  \n",
            "75%      0.400000    4.00000   31.667500   33.132500  \n",
            "max      0.400000    5.00000   43.100000   48.030000  \n",
            "Y1    1.000000\n",
            "Y2    0.975862\n",
            "X5    0.889431\n",
            "X1    0.622272\n",
            "X3    0.455671\n",
            "X7    0.269841\n",
            "X8    0.087368\n",
            "X6   -0.002587\n",
            "X2   -0.658120\n",
            "X4   -0.861828\n",
            "Name: Y1, dtype: float64\n"
          ]
        }
      ]
    },
    {
      "cell_type": "code",
      "source": [
        "df['Y1'].hist(bins=30)\n",
        "plt.title(\"Heating Load (Y1) distribution\")\n",
        "plt.xlabel(\"Y1\")\n",
        "plt.show()\n"
      ],
      "metadata": {
        "colab": {
          "base_uri": "https://localhost:8080/",
          "height": 472
        },
        "id": "9I3WwC5ITEtG",
        "outputId": "4bfd294e-11a1-465f-d693-9bd50c2cd394"
      },
      "execution_count": 6,
      "outputs": [
        {
          "output_type": "display_data",
          "data": {
            "text/plain": [
              "<Figure size 640x480 with 1 Axes>"
            ],
            "image/png": "[encoded data removed]"
          },
          "metadata": {}
        }
      ]
    },
    {
      "cell_type": "code",
      "source": [
        "X = df.drop(columns=['Y1', 'Y2'])  # inputs\n",
        "y = df['Y1']\n"
      ],
      "metadata": {
        "id": "AbzLJKw_TU6b"
      },
      "execution_count": 7,
      "outputs": []
    },
    {
      "cell_type": "markdown",
      "source": [
        "Train / validation / test split"
      ],
      "metadata": {
        "id": "gChKkeAlT_w6"
      }
    },
    {
      "cell_type": "code",
      "source": [
        "X_train_full, X_test, y_train_full, y_test = train_test_split(X, y, test_size=0.15, random_state=42)\n",
        "X_train, X_val, y_train, y_val = train_test_split(X_train_full, y_train_full, test_size=0.17647, random_state=42)\n",
        "# 0.17647 * 0.85 ≈ 0.15, so overall ~70/15/15\n",
        "\n",
        "print(X_train.shape, X_val.shape, X_test.shape)\n"
      ],
      "metadata": {
        "colab": {
          "base_uri": "https://localhost:8080/"
        },
        "id": "9IW0cl_cTk8E",
        "outputId": "40758df5-0cd7-4dc4-a85e-538816b36547"
      },
      "execution_count": 8,
      "outputs": [
        {
          "output_type": "stream",
          "name": "stdout",
          "text": [
            "(536, 8) (116, 8) (116, 8)\n"
          ]
        }
      ]
    },
    {
      "cell_type": "markdown",
      "source": [
        "Feature scaling"
      ],
      "metadata": {
        "id": "hN9iXrHkUGAM"
      }
    },
    {
      "cell_type": "code",
      "source": [
        "scaler = StandardScaler()\n",
        "X_train_scaled = scaler.fit_transform(X_train)\n",
        "X_val_scaled   = scaler.transform(X_val)\n",
        "X_test_scaled  = scaler.transform(X_test)\n"
      ],
      "metadata": {
        "id": "1meaVBUIUHr9"
      },
      "execution_count": 10,
      "outputs": []
    },
    {
      "cell_type": "markdown",
      "source": [
        "Build a baseline neural network"
      ],
      "metadata": {
        "id": "xTMiRRYKT38V"
      }
    },
    {
      "cell_type": "code",
      "source": [
        "input_dim = X_train_scaled.shape[1]\n",
        "\n",
        "model = models.Sequential([\n",
        "    layers.Input(shape=(input_dim,)),\n",
        "    layers.Dense(64, activation='relu'),\n",
        "    layers.Dense(32, activation='relu'),\n",
        "    layers.Dense(1)   # regression output\n",
        "])\n",
        "\n",
        "model.compile(optimizer='adam', loss='mse', metrics=['mae'])\n",
        "model.summary()\n",
        "\n"
      ],
      "metadata": {
        "colab": {
          "base_uri": "https://localhost:8080/",
          "height": 238
        },
        "id": "9dmzIO1PTwUT",
        "outputId": "2d42fb7a-fd27-44b3-9ac9-03b7e8eb6bcd"
      },
      "execution_count": 11,
      "outputs": [
        {
          "output_type": "display_data",
          "data": {
            "text/plain": [
              "\u001b[1mModel: \"sequential\"\u001b[0m\n"
            ],
            "text/html": [
              "<pre style=\"white-space:pre;overflow-x:auto;line-height:normal;font-family:Menlo,'DejaVu Sans Mono',consolas,'Courier New',monospace\"><span style=\"font-weight: bold\">Model: \"sequential\"</span>\n",
              "</pre>\n"
            ]
          },
          "metadata": {}
        },
        {
          "output_type": "display_data",
          "data": {
            "text/plain": [
              "┏━━━━━━━━━━━━━━━━━━━━━━━━━━━━━━━━━┳━━━━━━━━━━━━━━━━━━━━━━━━┳━━━━━━━━━━━━━━━┓\n",
              "┃\u001b[1m \u001b[0m\u001b[1mLayer (type)                   \u001b[0m\u001b[1m \u001b[0m┃\u001b[1m \u001b[0m\u001b[1mOutput Shape          \u001b[0m\u001b[1m \u001b[0m┃\u001b[1m \u001b[0m\u001b[1m      Param #\u001b[0m\u001b[1m \u001b[0m┃\n",
              "┡━━━━━━━━━━━━━━━━━━━━━━━━━━━━━━━━━╇━━━━━━━━━━━━━━━━━━━━━━━━╇━━━━━━━━━━━━━━━┩\n",
              "│ dense (\u001b[38;5;33mDense\u001b[0m)                   │ (\u001b[38;5;45mNone\u001b[0m, \u001b[38;5;34m64\u001b[0m)             │           \u001b[38;5;34m576\u001b[0m │\n",
              "├─────────────────────────────────┼────────────────────────┼───────────────┤\n",
              "│ dense_1 (\u001b[38;5;33mDense\u001b[0m)                 │ (\u001b[38;5;45mNone\u001b[0m, \u001b[38;5;34m32\u001b[0m)             │         \u001b[38;5;34m2,080\u001b[0m │\n",
              "├─────────────────────────────────┼────────────────────────┼───────────────┤\n",
              "│ dense_2 (\u001b[38;5;33mDense\u001b[0m)                 │ (\u001b[38;5;45mNone\u001b[0m, \u001b[38;5;34m1\u001b[0m)              │            \u001b[38;5;34m33\u001b[0m │\n",
              "└─────────────────────────────────┴────────────────────────┴───────────────┘\n"
            ],
            "text/html": [
              "<pre style=\"white-space:pre;overflow-x:auto;line-height:normal;font-family:Menlo,'DejaVu Sans Mono',consolas,'Courier New',monospace\">┏━━━━━━━━━━━━━━━━━━━━━━━━━━━━━━━━━┳━━━━━━━━━━━━━━━━━━━━━━━━┳━━━━━━━━━━━━━━━┓\n",
              "┃<span style=\"font-weight: bold\"> Layer (type)                    </span>┃<span style=\"font-weight: bold\"> Output Shape           </span>┃<span style=\"font-weight: bold\">       Param # </span>┃\n",
              "┡━━━━━━━━━━━━━━━━━━━━━━━━━━━━━━━━━╇━━━━━━━━━━━━━━━━━━━━━━━━╇━━━━━━━━━━━━━━━┩\n",
              "│ dense (<span style=\"color: #0087ff; text-decoration-color: #0087ff\">Dense</span>)                   │ (<span style=\"color: #00d7ff; text-decoration-color: #00d7ff\">None</span>, <span style=\"color: #00af00; text-decoration-color: #00af00\">64</span>)             │           <span style=\"color: #00af00; text-decoration-color: #00af00\">576</span> │\n",
              "├─────────────────────────────────┼────────────────────────┼───────────────┤\n",
              "│ dense_1 (<span style=\"color: #0087ff; text-decoration-color: #0087ff\">Dense</span>)                 │ (<span style=\"color: #00d7ff; text-decoration-color: #00d7ff\">None</span>, <span style=\"color: #00af00; text-decoration-color: #00af00\">32</span>)             │         <span style=\"color: #00af00; text-decoration-color: #00af00\">2,080</span> │\n",
              "├─────────────────────────────────┼────────────────────────┼───────────────┤\n",
              "│ dense_2 (<span style=\"color: #0087ff; text-decoration-color: #0087ff\">Dense</span>)                 │ (<span style=\"color: #00d7ff; text-decoration-color: #00d7ff\">None</span>, <span style=\"color: #00af00; text-decoration-color: #00af00\">1</span>)              │            <span style=\"color: #00af00; text-decoration-color: #00af00\">33</span> │\n",
              "└─────────────────────────────────┴────────────────────────┴───────────────┘\n",
              "</pre>\n"
            ]
          },
          "metadata": {}
        },
        {
          "output_type": "display_data",
          "data": {
            "text/plain": [
              "\u001b[1m Total params: \u001b[0m\u001b[38;5;34m2,689\u001b[0m (10.50 KB)\n"
            ],
            "text/html": [
              "<pre style=\"white-space:pre;overflow-x:auto;line-height:normal;font-family:Menlo,'DejaVu Sans Mono',consolas,'Courier New',monospace\"><span style=\"font-weight: bold\"> Total params: </span><span style=\"color: #00af00; text-decoration-color: #00af00\">2,689</span> (10.50 KB)\n",
              "</pre>\n"
            ]
          },
          "metadata": {}
        },
        {
          "output_type": "display_data",
          "data": {
            "text/plain": [
              "\u001b[1m Trainable params: \u001b[0m\u001b[38;5;34m2,689\u001b[0m (10.50 KB)\n"
            ],
            "text/html": [
              "<pre style=\"white-space:pre;overflow-x:auto;line-height:normal;font-family:Menlo,'DejaVu Sans Mono',consolas,'Courier New',monospace\"><span style=\"font-weight: bold\"> Trainable params: </span><span style=\"color: #00af00; text-decoration-color: #00af00\">2,689</span> (10.50 KB)\n",
              "</pre>\n"
            ]
          },
          "metadata": {}
        },
        {
          "output_type": "display_data",
          "data": {
            "text/plain": [
              "\u001b[1m Non-trainable params: \u001b[0m\u001b[38;5;34m0\u001b[0m (0.00 B)\n"
            ],
            "text/html": [
              "<pre style=\"white-space:pre;overflow-x:auto;line-height:normal;font-family:Menlo,'DejaVu Sans Mono',consolas,'Courier New',monospace\"><span style=\"font-weight: bold\"> Non-trainable params: </span><span style=\"color: #00af00; text-decoration-color: #00af00\">0</span> (0.00 B)\n",
              "</pre>\n"
            ]
          },
          "metadata": {}
        }
      ]
    },
    {
      "cell_type": "markdown",
      "source": [
        "Add callbacks for safer training"
      ],
      "metadata": {
        "id": "Q1V_k47hUkiE"
      }
    },
    {
      "cell_type": "code",
      "source": [
        "es = callbacks.EarlyStopping(monitor='val_loss', patience=15, restore_best_weights=True)\n",
        "mc = callbacks.ModelCheckpoint(\"best_model.h5\", monitor='val_loss', save_best_only=True)\n"
      ],
      "metadata": {
        "id": "x7To0LbuUkDP"
      },
      "execution_count": 12,
      "outputs": []
    },
    {
      "cell_type": "markdown",
      "source": [
        "Train the model"
      ],
      "metadata": {
        "id": "WeD8_QyYU3ux"
      }
    },
    {
      "cell_type": "code",
      "source": [
        "history = model.fit(\n",
        "    X_train_scaled, y_train,\n",
        "    validation_data=(X_val_scaled, y_val),\n",
        "    epochs=200,\n",
        "    batch_size=16,\n",
        "    callbacks=[es, mc],\n",
        "    verbose=2\n",
        ")\n"
      ],
      "metadata": {
        "colab": {
          "base_uri": "https://localhost:8080/"
        },
        "id": "k7Z3dsCyU5QY",
        "outputId": "5817effe-45ab-4419-ad5d-10a048fb3166"
      },
      "execution_count": 13,
      "outputs": [
        {
          "output_type": "stream",
          "name": "stdout",
          "text": [
            "Epoch 1/200\n"
          ]
        },
        {
          "output_type": "stream",
          "name": "stderr",
          "text": [
            "WARNING:absl:You are saving your model as an HDF5 file via `model.save()` or `keras.saving.save_model(model)`. This file format is considered legacy. We recommend using instead the native Keras format, e.g. `model.save('my_model.keras')` or `keras.saving.save_model(model, 'my_model.keras')`. \n"
          ]
        },
        {
          "output_type": "stream",
          "name": "stdout",
          "text": [
            "34/34 - 1s - 43ms/step - loss: 552.3397 - mae: 21.2017 - val_loss: 411.8936 - val_mae: 17.9027\n",
            "Epoch 2/200\n"
          ]
        },
        {
          "output_type": "stream",
          "name": "stderr",
          "text": [
            "WARNING:absl:You are saving your model as an HDF5 file via `model.save()` or `keras.saving.save_model(model)`. This file format is considered legacy. We recommend using instead the native Keras format, e.g. `model.save('my_model.keras')` or `keras.saving.save_model(model, 'my_model.keras')`. \n"
          ]
        },
        {
          "output_type": "stream",
          "name": "stdout",
          "text": [
            "34/34 - 0s - 5ms/step - loss: 421.0878 - mae: 17.8285 - val_loss: 246.5908 - val_mae: 13.0251\n",
            "Epoch 3/200\n"
          ]
        },
        {
          "output_type": "stream",
          "name": "stderr",
          "text": [
            "WARNING:absl:You are saving your model as an HDF5 file via `model.save()` or `keras.saving.save_model(model)`. This file format is considered legacy. We recommend using instead the native Keras format, e.g. `model.save('my_model.keras')` or `keras.saving.save_model(model, 'my_model.keras')`. \n"
          ]
        },
        {
          "output_type": "stream",
          "name": "stdout",
          "text": [
            "34/34 - 0s - 5ms/step - loss: 207.1807 - mae: 11.3435 - val_loss: 59.4092 - val_mae: 5.3408\n",
            "Epoch 4/200\n"
          ]
        },
        {
          "output_type": "stream",
          "name": "stderr",
          "text": [
            "WARNING:absl:You are saving your model as an HDF5 file via `model.save()` or `keras.saving.save_model(model)`. This file format is considered legacy. We recommend using instead the native Keras format, e.g. `model.save('my_model.keras')` or `keras.saving.save_model(model, 'my_model.keras')`. \n"
          ]
        },
        {
          "output_type": "stream",
          "name": "stdout",
          "text": [
            "34/34 - 0s - 5ms/step - loss: 59.0418 - mae: 5.3804 - val_loss: 19.5524 - val_mae: 2.8920\n",
            "Epoch 5/200\n"
          ]
        },
        {
          "output_type": "stream",
          "name": "stderr",
          "text": [
            "WARNING:absl:You are saving your model as an HDF5 file via `model.save()` or `keras.saving.save_model(model)`. This file format is considered legacy. We recommend using instead the native Keras format, e.g. `model.save('my_model.keras')` or `keras.saving.save_model(model, 'my_model.keras')`. \n"
          ]
        },
        {
          "output_type": "stream",
          "name": "stdout",
          "text": [
            "34/34 - 0s - 5ms/step - loss: 34.9391 - mae: 3.9711 - val_loss: 15.6640 - val_mae: 2.7168\n",
            "Epoch 6/200\n"
          ]
        },
        {
          "output_type": "stream",
          "name": "stderr",
          "text": [
            "WARNING:absl:You are saving your model as an HDF5 file via `model.save()` or `keras.saving.save_model(model)`. This file format is considered legacy. We recommend using instead the native Keras format, e.g. `model.save('my_model.keras')` or `keras.saving.save_model(model, 'my_model.keras')`. \n"
          ]
        },
        {
          "output_type": "stream",
          "name": "stdout",
          "text": [
            "34/34 - 0s - 5ms/step - loss: 28.9125 - mae: 3.7604 - val_loss: 14.2575 - val_mae: 2.7560\n",
            "Epoch 7/200\n"
          ]
        },
        {
          "output_type": "stream",
          "name": "stderr",
          "text": [
            "WARNING:absl:You are saving your model as an HDF5 file via `model.save()` or `keras.saving.save_model(model)`. This file format is considered legacy. We recommend using instead the native Keras format, e.g. `model.save('my_model.keras')` or `keras.saving.save_model(model, 'my_model.keras')`. \n"
          ]
        },
        {
          "output_type": "stream",
          "name": "stdout",
          "text": [
            "34/34 - 0s - 5ms/step - loss: 25.7723 - mae: 3.6557 - val_loss: 13.5642 - val_mae: 2.7333\n",
            "Epoch 8/200\n"
          ]
        },
        {
          "output_type": "stream",
          "name": "stderr",
          "text": [
            "WARNING:absl:You are saving your model as an HDF5 file via `model.save()` or `keras.saving.save_model(model)`. This file format is considered legacy. We recommend using instead the native Keras format, e.g. `model.save('my_model.keras')` or `keras.saving.save_model(model, 'my_model.keras')`. \n"
          ]
        },
        {
          "output_type": "stream",
          "name": "stdout",
          "text": [
            "34/34 - 0s - 5ms/step - loss: 23.5641 - mae: 3.5028 - val_loss: 12.4796 - val_mae: 2.6102\n",
            "Epoch 9/200\n"
          ]
        },
        {
          "output_type": "stream",
          "name": "stderr",
          "text": [
            "WARNING:absl:You are saving your model as an HDF5 file via `model.save()` or `keras.saving.save_model(model)`. This file format is considered legacy. We recommend using instead the native Keras format, e.g. `model.save('my_model.keras')` or `keras.saving.save_model(model, 'my_model.keras')`. \n"
          ]
        },
        {
          "output_type": "stream",
          "name": "stdout",
          "text": [
            "34/34 - 0s - 5ms/step - loss: 21.7293 - mae: 3.3617 - val_loss: 11.8981 - val_mae: 2.5820\n",
            "Epoch 10/200\n"
          ]
        },
        {
          "output_type": "stream",
          "name": "stderr",
          "text": [
            "WARNING:absl:You are saving your model as an HDF5 file via `model.save()` or `keras.saving.save_model(model)`. This file format is considered legacy. We recommend using instead the native Keras format, e.g. `model.save('my_model.keras')` or `keras.saving.save_model(model, 'my_model.keras')`. \n"
          ]
        },
        {
          "output_type": "stream",
          "name": "stdout",
          "text": [
            "34/34 - 0s - 5ms/step - loss: 20.1029 - mae: 3.2734 - val_loss: 11.8667 - val_mae: 2.5946\n",
            "Epoch 11/200\n"
          ]
        },
        {
          "output_type": "stream",
          "name": "stderr",
          "text": [
            "WARNING:absl:You are saving your model as an HDF5 file via `model.save()` or `keras.saving.save_model(model)`. This file format is considered legacy. We recommend using instead the native Keras format, e.g. `model.save('my_model.keras')` or `keras.saving.save_model(model, 'my_model.keras')`. \n"
          ]
        },
        {
          "output_type": "stream",
          "name": "stdout",
          "text": [
            "34/34 - 0s - 5ms/step - loss: 18.6093 - mae: 3.1478 - val_loss: 10.8952 - val_mae: 2.4903\n",
            "Epoch 12/200\n"
          ]
        },
        {
          "output_type": "stream",
          "name": "stderr",
          "text": [
            "WARNING:absl:You are saving your model as an HDF5 file via `model.save()` or `keras.saving.save_model(model)`. This file format is considered legacy. We recommend using instead the native Keras format, e.g. `model.save('my_model.keras')` or `keras.saving.save_model(model, 'my_model.keras')`. \n"
          ]
        },
        {
          "output_type": "stream",
          "name": "stdout",
          "text": [
            "34/34 - 0s - 5ms/step - loss: 17.3321 - mae: 3.0424 - val_loss: 10.1353 - val_mae: 2.3998\n",
            "Epoch 13/200\n"
          ]
        },
        {
          "output_type": "stream",
          "name": "stderr",
          "text": [
            "WARNING:absl:You are saving your model as an HDF5 file via `model.save()` or `keras.saving.save_model(model)`. This file format is considered legacy. We recommend using instead the native Keras format, e.g. `model.save('my_model.keras')` or `keras.saving.save_model(model, 'my_model.keras')`. \n"
          ]
        },
        {
          "output_type": "stream",
          "name": "stdout",
          "text": [
            "34/34 - 0s - 5ms/step - loss: 16.2397 - mae: 2.9742 - val_loss: 9.6200 - val_mae: 2.3482\n",
            "Epoch 14/200\n"
          ]
        },
        {
          "output_type": "stream",
          "name": "stderr",
          "text": [
            "WARNING:absl:You are saving your model as an HDF5 file via `model.save()` or `keras.saving.save_model(model)`. This file format is considered legacy. We recommend using instead the native Keras format, e.g. `model.save('my_model.keras')` or `keras.saving.save_model(model, 'my_model.keras')`. \n"
          ]
        },
        {
          "output_type": "stream",
          "name": "stdout",
          "text": [
            "34/34 - 0s - 6ms/step - loss: 15.2491 - mae: 2.8595 - val_loss: 9.2845 - val_mae: 2.3181\n",
            "Epoch 15/200\n",
            "34/34 - 0s - 4ms/step - loss: 14.4851 - mae: 2.8097 - val_loss: 9.3102 - val_mae: 2.3545\n",
            "Epoch 16/200\n"
          ]
        },
        {
          "output_type": "stream",
          "name": "stderr",
          "text": [
            "WARNING:absl:You are saving your model as an HDF5 file via `model.save()` or `keras.saving.save_model(model)`. This file format is considered legacy. We recommend using instead the native Keras format, e.g. `model.save('my_model.keras')` or `keras.saving.save_model(model, 'my_model.keras')`. \n"
          ]
        },
        {
          "output_type": "stream",
          "name": "stdout",
          "text": [
            "34/34 - 0s - 5ms/step - loss: 13.6937 - mae: 2.7541 - val_loss: 8.2629 - val_mae: 2.2013\n",
            "Epoch 17/200\n"
          ]
        },
        {
          "output_type": "stream",
          "name": "stderr",
          "text": [
            "WARNING:absl:You are saving your model as an HDF5 file via `model.save()` or `keras.saving.save_model(model)`. This file format is considered legacy. We recommend using instead the native Keras format, e.g. `model.save('my_model.keras')` or `keras.saving.save_model(model, 'my_model.keras')`. \n"
          ]
        },
        {
          "output_type": "stream",
          "name": "stdout",
          "text": [
            "34/34 - 0s - 5ms/step - loss: 13.0215 - mae: 2.6456 - val_loss: 8.0828 - val_mae: 2.1997\n",
            "Epoch 18/200\n"
          ]
        },
        {
          "output_type": "stream",
          "name": "stderr",
          "text": [
            "WARNING:absl:You are saving your model as an HDF5 file via `model.save()` or `keras.saving.save_model(model)`. This file format is considered legacy. We recommend using instead the native Keras format, e.g. `model.save('my_model.keras')` or `keras.saving.save_model(model, 'my_model.keras')`. \n"
          ]
        },
        {
          "output_type": "stream",
          "name": "stdout",
          "text": [
            "34/34 - 0s - 5ms/step - loss: 12.4679 - mae: 2.6108 - val_loss: 7.8825 - val_mae: 2.1690\n",
            "Epoch 19/200\n"
          ]
        },
        {
          "output_type": "stream",
          "name": "stderr",
          "text": [
            "WARNING:absl:You are saving your model as an HDF5 file via `model.save()` or `keras.saving.save_model(model)`. This file format is considered legacy. We recommend using instead the native Keras format, e.g. `model.save('my_model.keras')` or `keras.saving.save_model(model, 'my_model.keras')`. \n"
          ]
        },
        {
          "output_type": "stream",
          "name": "stdout",
          "text": [
            "34/34 - 0s - 5ms/step - loss: 11.9089 - mae: 2.5666 - val_loss: 6.9761 - val_mae: 2.0278\n",
            "Epoch 20/200\n"
          ]
        },
        {
          "output_type": "stream",
          "name": "stderr",
          "text": [
            "WARNING:absl:You are saving your model as an HDF5 file via `model.save()` or `keras.saving.save_model(model)`. This file format is considered legacy. We recommend using instead the native Keras format, e.g. `model.save('my_model.keras')` or `keras.saving.save_model(model, 'my_model.keras')`. \n"
          ]
        },
        {
          "output_type": "stream",
          "name": "stdout",
          "text": [
            "34/34 - 0s - 6ms/step - loss: 11.3573 - mae: 2.5105 - val_loss: 6.7316 - val_mae: 1.9869\n",
            "Epoch 21/200\n"
          ]
        },
        {
          "output_type": "stream",
          "name": "stderr",
          "text": [
            "WARNING:absl:You are saving your model as an HDF5 file via `model.save()` or `keras.saving.save_model(model)`. This file format is considered legacy. We recommend using instead the native Keras format, e.g. `model.save('my_model.keras')` or `keras.saving.save_model(model, 'my_model.keras')`. \n"
          ]
        },
        {
          "output_type": "stream",
          "name": "stdout",
          "text": [
            "34/34 - 0s - 5ms/step - loss: 11.0324 - mae: 2.4572 - val_loss: 6.5870 - val_mae: 1.9733\n",
            "Epoch 22/200\n"
          ]
        },
        {
          "output_type": "stream",
          "name": "stderr",
          "text": [
            "WARNING:absl:You are saving your model as an HDF5 file via `model.save()` or `keras.saving.save_model(model)`. This file format is considered legacy. We recommend using instead the native Keras format, e.g. `model.save('my_model.keras')` or `keras.saving.save_model(model, 'my_model.keras')`. \n"
          ]
        },
        {
          "output_type": "stream",
          "name": "stdout",
          "text": [
            "34/34 - 0s - 5ms/step - loss: 10.6668 - mae: 2.3982 - val_loss: 6.3717 - val_mae: 1.9397\n",
            "Epoch 23/200\n"
          ]
        },
        {
          "output_type": "stream",
          "name": "stderr",
          "text": [
            "WARNING:absl:You are saving your model as an HDF5 file via `model.save()` or `keras.saving.save_model(model)`. This file format is considered legacy. We recommend using instead the native Keras format, e.g. `model.save('my_model.keras')` or `keras.saving.save_model(model, 'my_model.keras')`. \n"
          ]
        },
        {
          "output_type": "stream",
          "name": "stdout",
          "text": [
            "34/34 - 0s - 5ms/step - loss: 10.3710 - mae: 2.3641 - val_loss: 6.1310 - val_mae: 1.9068\n",
            "Epoch 24/200\n"
          ]
        },
        {
          "output_type": "stream",
          "name": "stderr",
          "text": [
            "WARNING:absl:You are saving your model as an HDF5 file via `model.save()` or `keras.saving.save_model(model)`. This file format is considered legacy. We recommend using instead the native Keras format, e.g. `model.save('my_model.keras')` or `keras.saving.save_model(model, 'my_model.keras')`. \n"
          ]
        },
        {
          "output_type": "stream",
          "name": "stdout",
          "text": [
            "34/34 - 0s - 5ms/step - loss: 10.1572 - mae: 2.3566 - val_loss: 5.9623 - val_mae: 1.8503\n",
            "Epoch 25/200\n",
            "34/34 - 0s - 4ms/step - loss: 9.8943 - mae: 2.2942 - val_loss: 6.1868 - val_mae: 1.9173\n",
            "Epoch 26/200\n"
          ]
        },
        {
          "output_type": "stream",
          "name": "stderr",
          "text": [
            "WARNING:absl:You are saving your model as an HDF5 file via `model.save()` or `keras.saving.save_model(model)`. This file format is considered legacy. We recommend using instead the native Keras format, e.g. `model.save('my_model.keras')` or `keras.saving.save_model(model, 'my_model.keras')`. \n"
          ]
        },
        {
          "output_type": "stream",
          "name": "stdout",
          "text": [
            "34/34 - 0s - 6ms/step - loss: 9.7205 - mae: 2.2811 - val_loss: 5.6818 - val_mae: 1.8206\n",
            "Epoch 27/200\n"
          ]
        },
        {
          "output_type": "stream",
          "name": "stderr",
          "text": [
            "WARNING:absl:You are saving your model as an HDF5 file via `model.save()` or `keras.saving.save_model(model)`. This file format is considered legacy. We recommend using instead the native Keras format, e.g. `model.save('my_model.keras')` or `keras.saving.save_model(model, 'my_model.keras')`. \n"
          ]
        },
        {
          "output_type": "stream",
          "name": "stdout",
          "text": [
            "34/34 - 0s - 5ms/step - loss: 9.5637 - mae: 2.2561 - val_loss: 5.4944 - val_mae: 1.7921\n",
            "Epoch 28/200\n",
            "34/34 - 0s - 4ms/step - loss: 9.4114 - mae: 2.2193 - val_loss: 5.6839 - val_mae: 1.8331\n",
            "Epoch 29/200\n"
          ]
        },
        {
          "output_type": "stream",
          "name": "stderr",
          "text": [
            "WARNING:absl:You are saving your model as an HDF5 file via `model.save()` or `keras.saving.save_model(model)`. This file format is considered legacy. We recommend using instead the native Keras format, e.g. `model.save('my_model.keras')` or `keras.saving.save_model(model, 'my_model.keras')`. \n"
          ]
        },
        {
          "output_type": "stream",
          "name": "stdout",
          "text": [
            "34/34 - 0s - 8ms/step - loss: 9.2517 - mae: 2.2169 - val_loss: 5.2859 - val_mae: 1.7394\n",
            "Epoch 30/200\n"
          ]
        },
        {
          "output_type": "stream",
          "name": "stderr",
          "text": [
            "WARNING:absl:You are saving your model as an HDF5 file via `model.save()` or `keras.saving.save_model(model)`. This file format is considered legacy. We recommend using instead the native Keras format, e.g. `model.save('my_model.keras')` or `keras.saving.save_model(model, 'my_model.keras')`. \n"
          ]
        },
        {
          "output_type": "stream",
          "name": "stdout",
          "text": [
            "34/34 - 0s - 9ms/step - loss: 9.3471 - mae: 2.2102 - val_loss: 5.1609 - val_mae: 1.7107\n",
            "Epoch 31/200\n"
          ]
        },
        {
          "output_type": "stream",
          "name": "stderr",
          "text": [
            "WARNING:absl:You are saving your model as an HDF5 file via `model.save()` or `keras.saving.save_model(model)`. This file format is considered legacy. We recommend using instead the native Keras format, e.g. `model.save('my_model.keras')` or `keras.saving.save_model(model, 'my_model.keras')`. \n"
          ]
        },
        {
          "output_type": "stream",
          "name": "stdout",
          "text": [
            "34/34 - 0s - 9ms/step - loss: 9.1703 - mae: 2.1882 - val_loss: 5.0779 - val_mae: 1.7084\n",
            "Epoch 32/200\n",
            "34/34 - 0s - 6ms/step - loss: 9.0626 - mae: 2.1635 - val_loss: 5.1263 - val_mae: 1.7161\n",
            "Epoch 33/200\n"
          ]
        },
        {
          "output_type": "stream",
          "name": "stderr",
          "text": [
            "WARNING:absl:You are saving your model as an HDF5 file via `model.save()` or `keras.saving.save_model(model)`. This file format is considered legacy. We recommend using instead the native Keras format, e.g. `model.save('my_model.keras')` or `keras.saving.save_model(model, 'my_model.keras')`. \n"
          ]
        },
        {
          "output_type": "stream",
          "name": "stdout",
          "text": [
            "34/34 - 0s - 9ms/step - loss: 8.7562 - mae: 2.1520 - val_loss: 5.0070 - val_mae: 1.6824\n",
            "Epoch 34/200\n"
          ]
        },
        {
          "output_type": "stream",
          "name": "stderr",
          "text": [
            "WARNING:absl:You are saving your model as an HDF5 file via `model.save()` or `keras.saving.save_model(model)`. This file format is considered legacy. We recommend using instead the native Keras format, e.g. `model.save('my_model.keras')` or `keras.saving.save_model(model, 'my_model.keras')`. \n"
          ]
        },
        {
          "output_type": "stream",
          "name": "stdout",
          "text": [
            "34/34 - 0s - 8ms/step - loss: 8.6670 - mae: 2.1078 - val_loss: 4.8826 - val_mae: 1.6691\n",
            "Epoch 35/200\n"
          ]
        },
        {
          "output_type": "stream",
          "name": "stderr",
          "text": [
            "WARNING:absl:You are saving your model as an HDF5 file via `model.save()` or `keras.saving.save_model(model)`. This file format is considered legacy. We recommend using instead the native Keras format, e.g. `model.save('my_model.keras')` or `keras.saving.save_model(model, 'my_model.keras')`. \n"
          ]
        },
        {
          "output_type": "stream",
          "name": "stdout",
          "text": [
            "34/34 - 0s - 9ms/step - loss: 8.5646 - mae: 2.1008 - val_loss: 4.7907 - val_mae: 1.6240\n",
            "Epoch 36/200\n"
          ]
        },
        {
          "output_type": "stream",
          "name": "stderr",
          "text": [
            "WARNING:absl:You are saving your model as an HDF5 file via `model.save()` or `keras.saving.save_model(model)`. This file format is considered legacy. We recommend using instead the native Keras format, e.g. `model.save('my_model.keras')` or `keras.saving.save_model(model, 'my_model.keras')`. \n"
          ]
        },
        {
          "output_type": "stream",
          "name": "stdout",
          "text": [
            "34/34 - 0s - 9ms/step - loss: 8.4170 - mae: 2.0677 - val_loss: 4.6693 - val_mae: 1.6271\n",
            "Epoch 37/200\n"
          ]
        },
        {
          "output_type": "stream",
          "name": "stderr",
          "text": [
            "WARNING:absl:You are saving your model as an HDF5 file via `model.save()` or `keras.saving.save_model(model)`. This file format is considered legacy. We recommend using instead the native Keras format, e.g. `model.save('my_model.keras')` or `keras.saving.save_model(model, 'my_model.keras')`. \n"
          ]
        },
        {
          "output_type": "stream",
          "name": "stdout",
          "text": [
            "34/34 - 0s - 6ms/step - loss: 8.3161 - mae: 2.0758 - val_loss: 4.6571 - val_mae: 1.6342\n",
            "Epoch 38/200\n",
            "34/34 - 0s - 5ms/step - loss: 8.3014 - mae: 2.0495 - val_loss: 4.6743 - val_mae: 1.6070\n",
            "Epoch 39/200\n"
          ]
        },
        {
          "output_type": "stream",
          "name": "stderr",
          "text": [
            "WARNING:absl:You are saving your model as an HDF5 file via `model.save()` or `keras.saving.save_model(model)`. This file format is considered legacy. We recommend using instead the native Keras format, e.g. `model.save('my_model.keras')` or `keras.saving.save_model(model, 'my_model.keras')`. \n"
          ]
        },
        {
          "output_type": "stream",
          "name": "stdout",
          "text": [
            "34/34 - 0s - 5ms/step - loss: 8.1190 - mae: 2.0359 - val_loss: 4.5255 - val_mae: 1.6063\n",
            "Epoch 40/200\n",
            "34/34 - 0s - 4ms/step - loss: 8.0870 - mae: 2.0300 - val_loss: 4.6536 - val_mae: 1.6191\n",
            "Epoch 41/200\n"
          ]
        },
        {
          "output_type": "stream",
          "name": "stderr",
          "text": [
            "WARNING:absl:You are saving your model as an HDF5 file via `model.save()` or `keras.saving.save_model(model)`. This file format is considered legacy. We recommend using instead the native Keras format, e.g. `model.save('my_model.keras')` or `keras.saving.save_model(model, 'my_model.keras')`. \n"
          ]
        },
        {
          "output_type": "stream",
          "name": "stdout",
          "text": [
            "34/34 - 0s - 5ms/step - loss: 7.9573 - mae: 2.0043 - val_loss: 4.3829 - val_mae: 1.5572\n",
            "Epoch 42/200\n",
            "34/34 - 0s - 8ms/step - loss: 7.9338 - mae: 2.0193 - val_loss: 4.6289 - val_mae: 1.6075\n",
            "Epoch 43/200\n",
            "34/34 - 0s - 4ms/step - loss: 7.7819 - mae: 1.9793 - val_loss: 4.6936 - val_mae: 1.6056\n",
            "Epoch 44/200\n"
          ]
        },
        {
          "output_type": "stream",
          "name": "stderr",
          "text": [
            "WARNING:absl:You are saving your model as an HDF5 file via `model.save()` or `keras.saving.save_model(model)`. This file format is considered legacy. We recommend using instead the native Keras format, e.g. `model.save('my_model.keras')` or `keras.saving.save_model(model, 'my_model.keras')`. \n"
          ]
        },
        {
          "output_type": "stream",
          "name": "stdout",
          "text": [
            "34/34 - 0s - 5ms/step - loss: 7.8961 - mae: 2.0069 - val_loss: 4.3428 - val_mae: 1.5627\n",
            "Epoch 45/200\n"
          ]
        },
        {
          "output_type": "stream",
          "name": "stderr",
          "text": [
            "WARNING:absl:You are saving your model as an HDF5 file via `model.save()` or `keras.saving.save_model(model)`. This file format is considered legacy. We recommend using instead the native Keras format, e.g. `model.save('my_model.keras')` or `keras.saving.save_model(model, 'my_model.keras')`. \n"
          ]
        },
        {
          "output_type": "stream",
          "name": "stdout",
          "text": [
            "34/34 - 0s - 5ms/step - loss: 7.5320 - mae: 1.9383 - val_loss: 4.3130 - val_mae: 1.5471\n",
            "Epoch 46/200\n"
          ]
        },
        {
          "output_type": "stream",
          "name": "stderr",
          "text": [
            "WARNING:absl:You are saving your model as an HDF5 file via `model.save()` or `keras.saving.save_model(model)`. This file format is considered legacy. We recommend using instead the native Keras format, e.g. `model.save('my_model.keras')` or `keras.saving.save_model(model, 'my_model.keras')`. \n"
          ]
        },
        {
          "output_type": "stream",
          "name": "stdout",
          "text": [
            "34/34 - 0s - 8ms/step - loss: 7.5133 - mae: 1.9337 - val_loss: 4.2259 - val_mae: 1.5250\n",
            "Epoch 47/200\n"
          ]
        },
        {
          "output_type": "stream",
          "name": "stderr",
          "text": [
            "WARNING:absl:You are saving your model as an HDF5 file via `model.save()` or `keras.saving.save_model(model)`. This file format is considered legacy. We recommend using instead the native Keras format, e.g. `model.save('my_model.keras')` or `keras.saving.save_model(model, 'my_model.keras')`. \n"
          ]
        },
        {
          "output_type": "stream",
          "name": "stdout",
          "text": [
            "34/34 - 0s - 5ms/step - loss: 7.4009 - mae: 1.9158 - val_loss: 4.1240 - val_mae: 1.5124\n",
            "Epoch 48/200\n",
            "34/34 - 0s - 4ms/step - loss: 7.3958 - mae: 1.9080 - val_loss: 4.2753 - val_mae: 1.5304\n",
            "Epoch 49/200\n",
            "34/34 - 0s - 4ms/step - loss: 7.4115 - mae: 1.9113 - val_loss: 4.4591 - val_mae: 1.5540\n",
            "Epoch 50/200\n"
          ]
        },
        {
          "output_type": "stream",
          "name": "stderr",
          "text": [
            "WARNING:absl:You are saving your model as an HDF5 file via `model.save()` or `keras.saving.save_model(model)`. This file format is considered legacy. We recommend using instead the native Keras format, e.g. `model.save('my_model.keras')` or `keras.saving.save_model(model, 'my_model.keras')`. \n"
          ]
        },
        {
          "output_type": "stream",
          "name": "stdout",
          "text": [
            "34/34 - 0s - 6ms/step - loss: 7.2340 - mae: 1.8868 - val_loss: 3.9870 - val_mae: 1.4910\n",
            "Epoch 51/200\n"
          ]
        },
        {
          "output_type": "stream",
          "name": "stderr",
          "text": [
            "WARNING:absl:You are saving your model as an HDF5 file via `model.save()` or `keras.saving.save_model(model)`. This file format is considered legacy. We recommend using instead the native Keras format, e.g. `model.save('my_model.keras')` or `keras.saving.save_model(model, 'my_model.keras')`. \n"
          ]
        },
        {
          "output_type": "stream",
          "name": "stdout",
          "text": [
            "34/34 - 0s - 8ms/step - loss: 7.0574 - mae: 1.8718 - val_loss: 3.8305 - val_mae: 1.4524\n",
            "Epoch 52/200\n"
          ]
        },
        {
          "output_type": "stream",
          "name": "stderr",
          "text": [
            "WARNING:absl:You are saving your model as an HDF5 file via `model.save()` or `keras.saving.save_model(model)`. This file format is considered legacy. We recommend using instead the native Keras format, e.g. `model.save('my_model.keras')` or `keras.saving.save_model(model, 'my_model.keras')`. \n"
          ]
        },
        {
          "output_type": "stream",
          "name": "stdout",
          "text": [
            "34/34 - 0s - 5ms/step - loss: 6.9069 - mae: 1.8319 - val_loss: 3.8198 - val_mae: 1.4634\n",
            "Epoch 53/200\n"
          ]
        },
        {
          "output_type": "stream",
          "name": "stderr",
          "text": [
            "WARNING:absl:You are saving your model as an HDF5 file via `model.save()` or `keras.saving.save_model(model)`. This file format is considered legacy. We recommend using instead the native Keras format, e.g. `model.save('my_model.keras')` or `keras.saving.save_model(model, 'my_model.keras')`. \n"
          ]
        },
        {
          "output_type": "stream",
          "name": "stdout",
          "text": [
            "34/34 - 0s - 5ms/step - loss: 6.7249 - mae: 1.8069 - val_loss: 3.6545 - val_mae: 1.4390\n",
            "Epoch 54/200\n"
          ]
        },
        {
          "output_type": "stream",
          "name": "stderr",
          "text": [
            "WARNING:absl:You are saving your model as an HDF5 file via `model.save()` or `keras.saving.save_model(model)`. This file format is considered legacy. We recommend using instead the native Keras format, e.g. `model.save('my_model.keras')` or `keras.saving.save_model(model, 'my_model.keras')`. \n"
          ]
        },
        {
          "output_type": "stream",
          "name": "stdout",
          "text": [
            "34/34 - 0s - 5ms/step - loss: 6.8460 - mae: 1.8220 - val_loss: 3.5369 - val_mae: 1.4089\n",
            "Epoch 55/200\n",
            "34/34 - 0s - 5ms/step - loss: 6.7860 - mae: 1.8589 - val_loss: 3.6355 - val_mae: 1.4448\n",
            "Epoch 56/200\n"
          ]
        },
        {
          "output_type": "stream",
          "name": "stderr",
          "text": [
            "WARNING:absl:You are saving your model as an HDF5 file via `model.save()` or `keras.saving.save_model(model)`. This file format is considered legacy. We recommend using instead the native Keras format, e.g. `model.save('my_model.keras')` or `keras.saving.save_model(model, 'my_model.keras')`. \n"
          ]
        },
        {
          "output_type": "stream",
          "name": "stdout",
          "text": [
            "34/34 - 0s - 9ms/step - loss: 6.4809 - mae: 1.7711 - val_loss: 3.4172 - val_mae: 1.3729\n",
            "Epoch 57/200\n",
            "34/34 - 0s - 4ms/step - loss: 6.4325 - mae: 1.7815 - val_loss: 3.5631 - val_mae: 1.4081\n",
            "Epoch 58/200\n"
          ]
        },
        {
          "output_type": "stream",
          "name": "stderr",
          "text": [
            "WARNING:absl:You are saving your model as an HDF5 file via `model.save()` or `keras.saving.save_model(model)`. This file format is considered legacy. We recommend using instead the native Keras format, e.g. `model.save('my_model.keras')` or `keras.saving.save_model(model, 'my_model.keras')`. \n"
          ]
        },
        {
          "output_type": "stream",
          "name": "stdout",
          "text": [
            "34/34 - 0s - 5ms/step - loss: 6.2687 - mae: 1.7564 - val_loss: 3.3108 - val_mae: 1.3443\n",
            "Epoch 59/200\n"
          ]
        },
        {
          "output_type": "stream",
          "name": "stderr",
          "text": [
            "WARNING:absl:You are saving your model as an HDF5 file via `model.save()` or `keras.saving.save_model(model)`. This file format is considered legacy. We recommend using instead the native Keras format, e.g. `model.save('my_model.keras')` or `keras.saving.save_model(model, 'my_model.keras')`. \n"
          ]
        },
        {
          "output_type": "stream",
          "name": "stdout",
          "text": [
            "34/34 - 0s - 5ms/step - loss: 6.0978 - mae: 1.7053 - val_loss: 3.1931 - val_mae: 1.3492\n",
            "Epoch 60/200\n"
          ]
        },
        {
          "output_type": "stream",
          "name": "stderr",
          "text": [
            "WARNING:absl:You are saving your model as an HDF5 file via `model.save()` or `keras.saving.save_model(model)`. This file format is considered legacy. We recommend using instead the native Keras format, e.g. `model.save('my_model.keras')` or `keras.saving.save_model(model, 'my_model.keras')`. \n"
          ]
        },
        {
          "output_type": "stream",
          "name": "stdout",
          "text": [
            "34/34 - 0s - 6ms/step - loss: 5.9856 - mae: 1.7105 - val_loss: 3.1012 - val_mae: 1.3370\n",
            "Epoch 61/200\n"
          ]
        },
        {
          "output_type": "stream",
          "name": "stderr",
          "text": [
            "WARNING:absl:You are saving your model as an HDF5 file via `model.save()` or `keras.saving.save_model(model)`. This file format is considered legacy. We recommend using instead the native Keras format, e.g. `model.save('my_model.keras')` or `keras.saving.save_model(model, 'my_model.keras')`. \n"
          ]
        },
        {
          "output_type": "stream",
          "name": "stdout",
          "text": [
            "34/34 - 0s - 6ms/step - loss: 5.7924 - mae: 1.6692 - val_loss: 3.0076 - val_mae: 1.2829\n",
            "Epoch 62/200\n",
            "34/34 - 0s - 4ms/step - loss: 5.8097 - mae: 1.6644 - val_loss: 3.0860 - val_mae: 1.2661\n",
            "Epoch 63/200\n"
          ]
        },
        {
          "output_type": "stream",
          "name": "stderr",
          "text": [
            "WARNING:absl:You are saving your model as an HDF5 file via `model.save()` or `keras.saving.save_model(model)`. This file format is considered legacy. We recommend using instead the native Keras format, e.g. `model.save('my_model.keras')` or `keras.saving.save_model(model, 'my_model.keras')`. \n"
          ]
        },
        {
          "output_type": "stream",
          "name": "stdout",
          "text": [
            "34/34 - 0s - 5ms/step - loss: 5.7275 - mae: 1.6447 - val_loss: 2.7909 - val_mae: 1.2270\n",
            "Epoch 64/200\n",
            "34/34 - 0s - 9ms/step - loss: 5.5122 - mae: 1.6451 - val_loss: 3.8048 - val_mae: 1.3741\n",
            "Epoch 65/200\n"
          ]
        },
        {
          "output_type": "stream",
          "name": "stderr",
          "text": [
            "WARNING:absl:You are saving your model as an HDF5 file via `model.save()` or `keras.saving.save_model(model)`. This file format is considered legacy. We recommend using instead the native Keras format, e.g. `model.save('my_model.keras')` or `keras.saving.save_model(model, 'my_model.keras')`. \n"
          ]
        },
        {
          "output_type": "stream",
          "name": "stdout",
          "text": [
            "34/34 - 0s - 5ms/step - loss: 5.5741 - mae: 1.6142 - val_loss: 2.6537 - val_mae: 1.2006\n",
            "Epoch 66/200\n"
          ]
        },
        {
          "output_type": "stream",
          "name": "stderr",
          "text": [
            "WARNING:absl:You are saving your model as an HDF5 file via `model.save()` or `keras.saving.save_model(model)`. This file format is considered legacy. We recommend using instead the native Keras format, e.g. `model.save('my_model.keras')` or `keras.saving.save_model(model, 'my_model.keras')`. \n"
          ]
        },
        {
          "output_type": "stream",
          "name": "stdout",
          "text": [
            "34/34 - 0s - 6ms/step - loss: 5.3247 - mae: 1.5664 - val_loss: 2.5990 - val_mae: 1.1491\n",
            "Epoch 67/200\n"
          ]
        },
        {
          "output_type": "stream",
          "name": "stderr",
          "text": [
            "WARNING:absl:You are saving your model as an HDF5 file via `model.save()` or `keras.saving.save_model(model)`. This file format is considered legacy. We recommend using instead the native Keras format, e.g. `model.save('my_model.keras')` or `keras.saving.save_model(model, 'my_model.keras')`. \n"
          ]
        },
        {
          "output_type": "stream",
          "name": "stdout",
          "text": [
            "34/34 - 0s - 5ms/step - loss: 5.2387 - mae: 1.5519 - val_loss: 2.4835 - val_mae: 1.1122\n",
            "Epoch 68/200\n"
          ]
        },
        {
          "output_type": "stream",
          "name": "stderr",
          "text": [
            "WARNING:absl:You are saving your model as an HDF5 file via `model.save()` or `keras.saving.save_model(model)`. This file format is considered legacy. We recommend using instead the native Keras format, e.g. `model.save('my_model.keras')` or `keras.saving.save_model(model, 'my_model.keras')`. \n"
          ]
        },
        {
          "output_type": "stream",
          "name": "stdout",
          "text": [
            "34/34 - 0s - 5ms/step - loss: 5.1652 - mae: 1.5161 - val_loss: 2.4298 - val_mae: 1.1352\n",
            "Epoch 69/200\n"
          ]
        },
        {
          "output_type": "stream",
          "name": "stderr",
          "text": [
            "WARNING:absl:You are saving your model as an HDF5 file via `model.save()` or `keras.saving.save_model(model)`. This file format is considered legacy. We recommend using instead the native Keras format, e.g. `model.save('my_model.keras')` or `keras.saving.save_model(model, 'my_model.keras')`. \n"
          ]
        },
        {
          "output_type": "stream",
          "name": "stdout",
          "text": [
            "34/34 - 0s - 5ms/step - loss: 5.0095 - mae: 1.5076 - val_loss: 2.4136 - val_mae: 1.1094\n",
            "Epoch 70/200\n",
            "34/34 - 0s - 4ms/step - loss: 4.9189 - mae: 1.4850 - val_loss: 2.4506 - val_mae: 1.1455\n",
            "Epoch 71/200\n"
          ]
        },
        {
          "output_type": "stream",
          "name": "stderr",
          "text": [
            "WARNING:absl:You are saving your model as an HDF5 file via `model.save()` or `keras.saving.save_model(model)`. This file format is considered legacy. We recommend using instead the native Keras format, e.g. `model.save('my_model.keras')` or `keras.saving.save_model(model, 'my_model.keras')`. \n"
          ]
        },
        {
          "output_type": "stream",
          "name": "stdout",
          "text": [
            "34/34 - 0s - 5ms/step - loss: 4.7877 - mae: 1.5139 - val_loss: 2.4109 - val_mae: 1.0916\n",
            "Epoch 72/200\n"
          ]
        },
        {
          "output_type": "stream",
          "name": "stderr",
          "text": [
            "WARNING:absl:You are saving your model as an HDF5 file via `model.save()` or `keras.saving.save_model(model)`. This file format is considered legacy. We recommend using instead the native Keras format, e.g. `model.save('my_model.keras')` or `keras.saving.save_model(model, 'my_model.keras')`. \n"
          ]
        },
        {
          "output_type": "stream",
          "name": "stdout",
          "text": [
            "34/34 - 0s - 5ms/step - loss: 4.6914 - mae: 1.4414 - val_loss: 2.2346 - val_mae: 1.0535\n",
            "Epoch 73/200\n",
            "34/34 - 0s - 4ms/step - loss: 4.6208 - mae: 1.4762 - val_loss: 2.3062 - val_mae: 1.0774\n",
            "Epoch 74/200\n"
          ]
        },
        {
          "output_type": "stream",
          "name": "stderr",
          "text": [
            "WARNING:absl:You are saving your model as an HDF5 file via `model.save()` or `keras.saving.save_model(model)`. This file format is considered legacy. We recommend using instead the native Keras format, e.g. `model.save('my_model.keras')` or `keras.saving.save_model(model, 'my_model.keras')`. \n"
          ]
        },
        {
          "output_type": "stream",
          "name": "stdout",
          "text": [
            "34/34 - 0s - 5ms/step - loss: 4.5219 - mae: 1.4456 - val_loss: 2.2224 - val_mae: 1.0481\n",
            "Epoch 75/200\n"
          ]
        },
        {
          "output_type": "stream",
          "name": "stderr",
          "text": [
            "WARNING:absl:You are saving your model as an HDF5 file via `model.save()` or `keras.saving.save_model(model)`. This file format is considered legacy. We recommend using instead the native Keras format, e.g. `model.save('my_model.keras')` or `keras.saving.save_model(model, 'my_model.keras')`. \n"
          ]
        },
        {
          "output_type": "stream",
          "name": "stdout",
          "text": [
            "34/34 - 0s - 5ms/step - loss: 4.4217 - mae: 1.4271 - val_loss: 2.1408 - val_mae: 1.0127\n",
            "Epoch 76/200\n"
          ]
        },
        {
          "output_type": "stream",
          "name": "stderr",
          "text": [
            "WARNING:absl:You are saving your model as an HDF5 file via `model.save()` or `keras.saving.save_model(model)`. This file format is considered legacy. We recommend using instead the native Keras format, e.g. `model.save('my_model.keras')` or `keras.saving.save_model(model, 'my_model.keras')`. \n"
          ]
        },
        {
          "output_type": "stream",
          "name": "stdout",
          "text": [
            "34/34 - 0s - 5ms/step - loss: 4.3475 - mae: 1.4090 - val_loss: 2.0949 - val_mae: 1.0328\n",
            "Epoch 77/200\n",
            "34/34 - 0s - 4ms/step - loss: 4.2368 - mae: 1.3986 - val_loss: 2.1054 - val_mae: 1.0150\n",
            "Epoch 78/200\n"
          ]
        },
        {
          "output_type": "stream",
          "name": "stderr",
          "text": [
            "WARNING:absl:You are saving your model as an HDF5 file via `model.save()` or `keras.saving.save_model(model)`. This file format is considered legacy. We recommend using instead the native Keras format, e.g. `model.save('my_model.keras')` or `keras.saving.save_model(model, 'my_model.keras')`. \n"
          ]
        },
        {
          "output_type": "stream",
          "name": "stdout",
          "text": [
            "34/34 - 0s - 5ms/step - loss: 4.1501 - mae: 1.4063 - val_loss: 1.9358 - val_mae: 0.9685\n",
            "Epoch 79/200\n",
            "34/34 - 0s - 4ms/step - loss: 4.1328 - mae: 1.3749 - val_loss: 1.9674 - val_mae: 0.9841\n",
            "Epoch 80/200\n",
            "34/34 - 0s - 4ms/step - loss: 3.9325 - mae: 1.3568 - val_loss: 2.2157 - val_mae: 1.0049\n",
            "Epoch 81/200\n"
          ]
        },
        {
          "output_type": "stream",
          "name": "stderr",
          "text": [
            "WARNING:absl:You are saving your model as an HDF5 file via `model.save()` or `keras.saving.save_model(model)`. This file format is considered legacy. We recommend using instead the native Keras format, e.g. `model.save('my_model.keras')` or `keras.saving.save_model(model, 'my_model.keras')`. \n"
          ]
        },
        {
          "output_type": "stream",
          "name": "stdout",
          "text": [
            "34/34 - 0s - 5ms/step - loss: 3.8868 - mae: 1.3392 - val_loss: 1.8635 - val_mae: 0.9527\n",
            "Epoch 82/200\n"
          ]
        },
        {
          "output_type": "stream",
          "name": "stderr",
          "text": [
            "WARNING:absl:You are saving your model as an HDF5 file via `model.save()` or `keras.saving.save_model(model)`. This file format is considered legacy. We recommend using instead the native Keras format, e.g. `model.save('my_model.keras')` or `keras.saving.save_model(model, 'my_model.keras')`. \n"
          ]
        },
        {
          "output_type": "stream",
          "name": "stdout",
          "text": [
            "34/34 - 0s - 5ms/step - loss: 3.7748 - mae: 1.3243 - val_loss: 1.8602 - val_mae: 0.9571\n",
            "Epoch 83/200\n",
            "34/34 - 0s - 4ms/step - loss: 3.6095 - mae: 1.2956 - val_loss: 1.8630 - val_mae: 0.9779\n",
            "Epoch 84/200\n"
          ]
        },
        {
          "output_type": "stream",
          "name": "stderr",
          "text": [
            "WARNING:absl:You are saving your model as an HDF5 file via `model.save()` or `keras.saving.save_model(model)`. This file format is considered legacy. We recommend using instead the native Keras format, e.g. `model.save('my_model.keras')` or `keras.saving.save_model(model, 'my_model.keras')`. \n"
          ]
        },
        {
          "output_type": "stream",
          "name": "stdout",
          "text": [
            "34/34 - 0s - 6ms/step - loss: 3.6293 - mae: 1.2827 - val_loss: 1.7899 - val_mae: 0.9319\n",
            "Epoch 85/200\n",
            "34/34 - 0s - 4ms/step - loss: 3.5119 - mae: 1.2868 - val_loss: 2.0187 - val_mae: 1.0336\n",
            "Epoch 86/200\n"
          ]
        },
        {
          "output_type": "stream",
          "name": "stderr",
          "text": [
            "WARNING:absl:You are saving your model as an HDF5 file via `model.save()` or `keras.saving.save_model(model)`. This file format is considered legacy. We recommend using instead the native Keras format, e.g. `model.save('my_model.keras')` or `keras.saving.save_model(model, 'my_model.keras')`. \n"
          ]
        },
        {
          "output_type": "stream",
          "name": "stdout",
          "text": [
            "34/34 - 0s - 5ms/step - loss: 3.3891 - mae: 1.2681 - val_loss: 1.7409 - val_mae: 0.9267\n",
            "Epoch 87/200\n"
          ]
        },
        {
          "output_type": "stream",
          "name": "stderr",
          "text": [
            "WARNING:absl:You are saving your model as an HDF5 file via `model.save()` or `keras.saving.save_model(model)`. This file format is considered legacy. We recommend using instead the native Keras format, e.g. `model.save('my_model.keras')` or `keras.saving.save_model(model, 'my_model.keras')`. \n"
          ]
        },
        {
          "output_type": "stream",
          "name": "stdout",
          "text": [
            "34/34 - 0s - 5ms/step - loss: 3.2401 - mae: 1.2108 - val_loss: 1.7260 - val_mae: 0.9440\n",
            "Epoch 88/200\n"
          ]
        },
        {
          "output_type": "stream",
          "name": "stderr",
          "text": [
            "WARNING:absl:You are saving your model as an HDF5 file via `model.save()` or `keras.saving.save_model(model)`. This file format is considered legacy. We recommend using instead the native Keras format, e.g. `model.save('my_model.keras')` or `keras.saving.save_model(model, 'my_model.keras')`. \n"
          ]
        },
        {
          "output_type": "stream",
          "name": "stdout",
          "text": [
            "34/34 - 0s - 5ms/step - loss: 3.1603 - mae: 1.2432 - val_loss: 1.6537 - val_mae: 0.9152\n",
            "Epoch 89/200\n"
          ]
        },
        {
          "output_type": "stream",
          "name": "stderr",
          "text": [
            "WARNING:absl:You are saving your model as an HDF5 file via `model.save()` or `keras.saving.save_model(model)`. This file format is considered legacy. We recommend using instead the native Keras format, e.g. `model.save('my_model.keras')` or `keras.saving.save_model(model, 'my_model.keras')`. \n"
          ]
        },
        {
          "output_type": "stream",
          "name": "stdout",
          "text": [
            "34/34 - 0s - 5ms/step - loss: 3.0722 - mae: 1.1864 - val_loss: 1.6170 - val_mae: 0.9044\n",
            "Epoch 90/200\n"
          ]
        },
        {
          "output_type": "stream",
          "name": "stderr",
          "text": [
            "WARNING:absl:You are saving your model as an HDF5 file via `model.save()` or `keras.saving.save_model(model)`. This file format is considered legacy. We recommend using instead the native Keras format, e.g. `model.save('my_model.keras')` or `keras.saving.save_model(model, 'my_model.keras')`. \n"
          ]
        },
        {
          "output_type": "stream",
          "name": "stdout",
          "text": [
            "34/34 - 0s - 5ms/step - loss: 2.9363 - mae: 1.1752 - val_loss: 1.6100 - val_mae: 0.9111\n",
            "Epoch 91/200\n"
          ]
        },
        {
          "output_type": "stream",
          "name": "stderr",
          "text": [
            "WARNING:absl:You are saving your model as an HDF5 file via `model.save()` or `keras.saving.save_model(model)`. This file format is considered legacy. We recommend using instead the native Keras format, e.g. `model.save('my_model.keras')` or `keras.saving.save_model(model, 'my_model.keras')`. \n"
          ]
        },
        {
          "output_type": "stream",
          "name": "stdout",
          "text": [
            "34/34 - 0s - 5ms/step - loss: 2.8798 - mae: 1.1879 - val_loss: 1.6007 - val_mae: 0.8985\n",
            "Epoch 92/200\n"
          ]
        },
        {
          "output_type": "stream",
          "name": "stderr",
          "text": [
            "WARNING:absl:You are saving your model as an HDF5 file via `model.save()` or `keras.saving.save_model(model)`. This file format is considered legacy. We recommend using instead the native Keras format, e.g. `model.save('my_model.keras')` or `keras.saving.save_model(model, 'my_model.keras')`. \n"
          ]
        },
        {
          "output_type": "stream",
          "name": "stdout",
          "text": [
            "34/34 - 0s - 9ms/step - loss: 2.8036 - mae: 1.1417 - val_loss: 1.5466 - val_mae: 0.8893\n",
            "Epoch 93/200\n",
            "34/34 - 0s - 6ms/step - loss: 2.7055 - mae: 1.1279 - val_loss: 1.5586 - val_mae: 0.9002\n",
            "Epoch 94/200\n"
          ]
        },
        {
          "output_type": "stream",
          "name": "stderr",
          "text": [
            "WARNING:absl:You are saving your model as an HDF5 file via `model.save()` or `keras.saving.save_model(model)`. This file format is considered legacy. We recommend using instead the native Keras format, e.g. `model.save('my_model.keras')` or `keras.saving.save_model(model, 'my_model.keras')`. \n"
          ]
        },
        {
          "output_type": "stream",
          "name": "stdout",
          "text": [
            "34/34 - 0s - 8ms/step - loss: 2.7014 - mae: 1.1525 - val_loss: 1.5407 - val_mae: 0.8895\n",
            "Epoch 95/200\n"
          ]
        },
        {
          "output_type": "stream",
          "name": "stderr",
          "text": [
            "WARNING:absl:You are saving your model as an HDF5 file via `model.save()` or `keras.saving.save_model(model)`. This file format is considered legacy. We recommend using instead the native Keras format, e.g. `model.save('my_model.keras')` or `keras.saving.save_model(model, 'my_model.keras')`. \n"
          ]
        },
        {
          "output_type": "stream",
          "name": "stdout",
          "text": [
            "34/34 - 0s - 8ms/step - loss: 2.7463 - mae: 1.1795 - val_loss: 1.4795 - val_mae: 0.8756\n",
            "Epoch 96/200\n"
          ]
        },
        {
          "output_type": "stream",
          "name": "stderr",
          "text": [
            "WARNING:absl:You are saving your model as an HDF5 file via `model.save()` or `keras.saving.save_model(model)`. This file format is considered legacy. We recommend using instead the native Keras format, e.g. `model.save('my_model.keras')` or `keras.saving.save_model(model, 'my_model.keras')`. \n"
          ]
        },
        {
          "output_type": "stream",
          "name": "stdout",
          "text": [
            "34/34 - 0s - 8ms/step - loss: 2.6031 - mae: 1.1106 - val_loss: 1.4388 - val_mae: 0.8418\n",
            "Epoch 97/200\n",
            "34/34 - 0s - 8ms/step - loss: 2.5222 - mae: 1.1076 - val_loss: 1.4476 - val_mae: 0.8608\n",
            "Epoch 98/200\n",
            "34/34 - 0s - 8ms/step - loss: 2.3367 - mae: 1.0525 - val_loss: 1.6852 - val_mae: 0.9384\n",
            "Epoch 99/200\n",
            "34/34 - 0s - 8ms/step - loss: 2.4243 - mae: 1.0907 - val_loss: 1.4492 - val_mae: 0.8810\n",
            "Epoch 100/200\n",
            "34/34 - 0s - 8ms/step - loss: 2.2655 - mae: 1.0691 - val_loss: 1.8017 - val_mae: 0.9789\n",
            "Epoch 101/200\n"
          ]
        },
        {
          "output_type": "stream",
          "name": "stderr",
          "text": [
            "WARNING:absl:You are saving your model as an HDF5 file via `model.save()` or `keras.saving.save_model(model)`. This file format is considered legacy. We recommend using instead the native Keras format, e.g. `model.save('my_model.keras')` or `keras.saving.save_model(model, 'my_model.keras')`. \n"
          ]
        },
        {
          "output_type": "stream",
          "name": "stdout",
          "text": [
            "34/34 - 0s - 5ms/step - loss: 2.2859 - mae: 1.0929 - val_loss: 1.3621 - val_mae: 0.8690\n",
            "Epoch 102/200\n"
          ]
        },
        {
          "output_type": "stream",
          "name": "stderr",
          "text": [
            "WARNING:absl:You are saving your model as an HDF5 file via `model.save()` or `keras.saving.save_model(model)`. This file format is considered legacy. We recommend using instead the native Keras format, e.g. `model.save('my_model.keras')` or `keras.saving.save_model(model, 'my_model.keras')`. \n"
          ]
        },
        {
          "output_type": "stream",
          "name": "stdout",
          "text": [
            "34/34 - 0s - 5ms/step - loss: 2.1176 - mae: 1.0490 - val_loss: 1.3614 - val_mae: 0.8637\n",
            "Epoch 103/200\n",
            "34/34 - 0s - 5ms/step - loss: 2.0640 - mae: 1.0204 - val_loss: 1.4772 - val_mae: 0.8943\n",
            "Epoch 104/200\n"
          ]
        },
        {
          "output_type": "stream",
          "name": "stderr",
          "text": [
            "WARNING:absl:You are saving your model as an HDF5 file via `model.save()` or `keras.saving.save_model(model)`. This file format is considered legacy. We recommend using instead the native Keras format, e.g. `model.save('my_model.keras')` or `keras.saving.save_model(model, 'my_model.keras')`. \n"
          ]
        },
        {
          "output_type": "stream",
          "name": "stdout",
          "text": [
            "34/34 - 0s - 5ms/step - loss: 2.0788 - mae: 1.0123 - val_loss: 1.2896 - val_mae: 0.8263\n",
            "Epoch 105/200\n"
          ]
        },
        {
          "output_type": "stream",
          "name": "stderr",
          "text": [
            "WARNING:absl:You are saving your model as an HDF5 file via `model.save()` or `keras.saving.save_model(model)`. This file format is considered legacy. We recommend using instead the native Keras format, e.g. `model.save('my_model.keras')` or `keras.saving.save_model(model, 'my_model.keras')`. \n"
          ]
        },
        {
          "output_type": "stream",
          "name": "stdout",
          "text": [
            "34/34 - 0s - 5ms/step - loss: 1.9116 - mae: 0.9770 - val_loss: 1.2746 - val_mae: 0.8163\n",
            "Epoch 106/200\n",
            "34/34 - 0s - 5ms/step - loss: 1.9641 - mae: 0.9995 - val_loss: 1.3774 - val_mae: 0.8462\n",
            "Epoch 107/200\n"
          ]
        },
        {
          "output_type": "stream",
          "name": "stderr",
          "text": [
            "WARNING:absl:You are saving your model as an HDF5 file via `model.save()` or `keras.saving.save_model(model)`. This file format is considered legacy. We recommend using instead the native Keras format, e.g. `model.save('my_model.keras')` or `keras.saving.save_model(model, 'my_model.keras')`. \n"
          ]
        },
        {
          "output_type": "stream",
          "name": "stdout",
          "text": [
            "34/34 - 0s - 5ms/step - loss: 1.8501 - mae: 0.9736 - val_loss: 1.1351 - val_mae: 0.7880\n",
            "Epoch 108/200\n",
            "34/34 - 0s - 4ms/step - loss: 1.7267 - mae: 0.9332 - val_loss: 1.3512 - val_mae: 0.8626\n",
            "Epoch 109/200\n",
            "34/34 - 0s - 5ms/step - loss: 1.7018 - mae: 0.9369 - val_loss: 1.3595 - val_mae: 0.8670\n",
            "Epoch 110/200\n"
          ]
        },
        {
          "output_type": "stream",
          "name": "stderr",
          "text": [
            "WARNING:absl:You are saving your model as an HDF5 file via `model.save()` or `keras.saving.save_model(model)`. This file format is considered legacy. We recommend using instead the native Keras format, e.g. `model.save('my_model.keras')` or `keras.saving.save_model(model, 'my_model.keras')`. \n"
          ]
        },
        {
          "output_type": "stream",
          "name": "stdout",
          "text": [
            "34/34 - 0s - 9ms/step - loss: 1.6251 - mae: 0.9162 - val_loss: 1.0682 - val_mae: 0.7702\n",
            "Epoch 111/200\n"
          ]
        },
        {
          "output_type": "stream",
          "name": "stderr",
          "text": [
            "WARNING:absl:You are saving your model as an HDF5 file via `model.save()` or `keras.saving.save_model(model)`. This file format is considered legacy. We recommend using instead the native Keras format, e.g. `model.save('my_model.keras')` or `keras.saving.save_model(model, 'my_model.keras')`. \n"
          ]
        },
        {
          "output_type": "stream",
          "name": "stdout",
          "text": [
            "34/34 - 0s - 5ms/step - loss: 1.6127 - mae: 0.9015 - val_loss: 1.0669 - val_mae: 0.7643\n",
            "Epoch 112/200\n"
          ]
        },
        {
          "output_type": "stream",
          "name": "stderr",
          "text": [
            "WARNING:absl:You are saving your model as an HDF5 file via `model.save()` or `keras.saving.save_model(model)`. This file format is considered legacy. We recommend using instead the native Keras format, e.g. `model.save('my_model.keras')` or `keras.saving.save_model(model, 'my_model.keras')`. \n"
          ]
        },
        {
          "output_type": "stream",
          "name": "stdout",
          "text": [
            "34/34 - 0s - 5ms/step - loss: 1.5556 - mae: 0.8892 - val_loss: 1.0225 - val_mae: 0.7423\n",
            "Epoch 113/200\n",
            "34/34 - 0s - 4ms/step - loss: 1.4379 - mae: 0.8507 - val_loss: 1.2194 - val_mae: 0.8147\n",
            "Epoch 114/200\n"
          ]
        },
        {
          "output_type": "stream",
          "name": "stderr",
          "text": [
            "WARNING:absl:You are saving your model as an HDF5 file via `model.save()` or `keras.saving.save_model(model)`. This file format is considered legacy. We recommend using instead the native Keras format, e.g. `model.save('my_model.keras')` or `keras.saving.save_model(model, 'my_model.keras')`. \n"
          ]
        },
        {
          "output_type": "stream",
          "name": "stdout",
          "text": [
            "34/34 - 0s - 5ms/step - loss: 1.4332 - mae: 0.8549 - val_loss: 0.9906 - val_mae: 0.7439\n",
            "Epoch 115/200\n",
            "34/34 - 0s - 5ms/step - loss: 1.3579 - mae: 0.8368 - val_loss: 1.0161 - val_mae: 0.7656\n",
            "Epoch 116/200\n",
            "34/34 - 0s - 5ms/step - loss: 1.3461 - mae: 0.8408 - val_loss: 1.0373 - val_mae: 0.7705\n",
            "Epoch 117/200\n"
          ]
        },
        {
          "output_type": "stream",
          "name": "stderr",
          "text": [
            "WARNING:absl:You are saving your model as an HDF5 file via `model.save()` or `keras.saving.save_model(model)`. This file format is considered legacy. We recommend using instead the native Keras format, e.g. `model.save('my_model.keras')` or `keras.saving.save_model(model, 'my_model.keras')`. \n"
          ]
        },
        {
          "output_type": "stream",
          "name": "stdout",
          "text": [
            "34/34 - 0s - 5ms/step - loss: 1.2690 - mae: 0.8119 - val_loss: 0.9430 - val_mae: 0.7402\n",
            "Epoch 118/200\n"
          ]
        },
        {
          "output_type": "stream",
          "name": "stderr",
          "text": [
            "WARNING:absl:You are saving your model as an HDF5 file via `model.save()` or `keras.saving.save_model(model)`. This file format is considered legacy. We recommend using instead the native Keras format, e.g. `model.save('my_model.keras')` or `keras.saving.save_model(model, 'my_model.keras')`. \n"
          ]
        },
        {
          "output_type": "stream",
          "name": "stdout",
          "text": [
            "34/34 - 0s - 5ms/step - loss: 1.2210 - mae: 0.8073 - val_loss: 0.9005 - val_mae: 0.7243\n",
            "Epoch 119/200\n",
            "34/34 - 0s - 4ms/step - loss: 1.1822 - mae: 0.7867 - val_loss: 1.0877 - val_mae: 0.8081\n",
            "Epoch 120/200\n",
            "34/34 - 0s - 4ms/step - loss: 1.1727 - mae: 0.7942 - val_loss: 0.9466 - val_mae: 0.7333\n",
            "Epoch 121/200\n",
            "34/34 - 0s - 5ms/step - loss: 1.0836 - mae: 0.7557 - val_loss: 1.0199 - val_mae: 0.7770\n",
            "Epoch 122/200\n",
            "34/34 - 0s - 4ms/step - loss: 1.0785 - mae: 0.7565 - val_loss: 0.9052 - val_mae: 0.7248\n",
            "Epoch 123/200\n"
          ]
        },
        {
          "output_type": "stream",
          "name": "stderr",
          "text": [
            "WARNING:absl:You are saving your model as an HDF5 file via `model.save()` or `keras.saving.save_model(model)`. This file format is considered legacy. We recommend using instead the native Keras format, e.g. `model.save('my_model.keras')` or `keras.saving.save_model(model, 'my_model.keras')`. \n"
          ]
        },
        {
          "output_type": "stream",
          "name": "stdout",
          "text": [
            "34/34 - 0s - 5ms/step - loss: 1.0166 - mae: 0.7349 - val_loss: 0.8376 - val_mae: 0.7060\n",
            "Epoch 124/200\n",
            "34/34 - 0s - 8ms/step - loss: 0.9731 - mae: 0.7196 - val_loss: 0.9123 - val_mae: 0.7069\n",
            "Epoch 125/200\n"
          ]
        },
        {
          "output_type": "stream",
          "name": "stderr",
          "text": [
            "WARNING:absl:You are saving your model as an HDF5 file via `model.save()` or `keras.saving.save_model(model)`. This file format is considered legacy. We recommend using instead the native Keras format, e.g. `model.save('my_model.keras')` or `keras.saving.save_model(model, 'my_model.keras')`. \n"
          ]
        },
        {
          "output_type": "stream",
          "name": "stdout",
          "text": [
            "34/34 - 0s - 5ms/step - loss: 0.9531 - mae: 0.7051 - val_loss: 0.7706 - val_mae: 0.6692\n",
            "Epoch 126/200\n",
            "34/34 - 0s - 5ms/step - loss: 0.8930 - mae: 0.6793 - val_loss: 0.8649 - val_mae: 0.7146\n",
            "Epoch 127/200\n",
            "34/34 - 0s - 9ms/step - loss: 0.9066 - mae: 0.6989 - val_loss: 0.8052 - val_mae: 0.6951\n",
            "Epoch 128/200\n"
          ]
        },
        {
          "output_type": "stream",
          "name": "stderr",
          "text": [
            "WARNING:absl:You are saving your model as an HDF5 file via `model.save()` or `keras.saving.save_model(model)`. This file format is considered legacy. We recommend using instead the native Keras format, e.g. `model.save('my_model.keras')` or `keras.saving.save_model(model, 'my_model.keras')`. \n"
          ]
        },
        {
          "output_type": "stream",
          "name": "stdout",
          "text": [
            "34/34 - 0s - 5ms/step - loss: 0.8519 - mae: 0.6826 - val_loss: 0.7529 - val_mae: 0.6672\n",
            "Epoch 129/200\n"
          ]
        },
        {
          "output_type": "stream",
          "name": "stderr",
          "text": [
            "WARNING:absl:You are saving your model as an HDF5 file via `model.save()` or `keras.saving.save_model(model)`. This file format is considered legacy. We recommend using instead the native Keras format, e.g. `model.save('my_model.keras')` or `keras.saving.save_model(model, 'my_model.keras')`. \n"
          ]
        },
        {
          "output_type": "stream",
          "name": "stdout",
          "text": [
            "34/34 - 0s - 5ms/step - loss: 0.8477 - mae: 0.6729 - val_loss: 0.7469 - val_mae: 0.6688\n",
            "Epoch 130/200\n",
            "34/34 - 0s - 4ms/step - loss: 0.7736 - mae: 0.6433 - val_loss: 0.8269 - val_mae: 0.6967\n",
            "Epoch 131/200\n",
            "34/34 - 0s - 4ms/step - loss: 0.7623 - mae: 0.6376 - val_loss: 0.8809 - val_mae: 0.7156\n",
            "Epoch 132/200\n"
          ]
        },
        {
          "output_type": "stream",
          "name": "stderr",
          "text": [
            "WARNING:absl:You are saving your model as an HDF5 file via `model.save()` or `keras.saving.save_model(model)`. This file format is considered legacy. We recommend using instead the native Keras format, e.g. `model.save('my_model.keras')` or `keras.saving.save_model(model, 'my_model.keras')`. \n"
          ]
        },
        {
          "output_type": "stream",
          "name": "stdout",
          "text": [
            "34/34 - 0s - 6ms/step - loss: 0.7466 - mae: 0.6336 - val_loss: 0.7014 - val_mae: 0.6496\n",
            "Epoch 133/200\n"
          ]
        },
        {
          "output_type": "stream",
          "name": "stderr",
          "text": [
            "WARNING:absl:You are saving your model as an HDF5 file via `model.save()` or `keras.saving.save_model(model)`. This file format is considered legacy. We recommend using instead the native Keras format, e.g. `model.save('my_model.keras')` or `keras.saving.save_model(model, 'my_model.keras')`. \n"
          ]
        },
        {
          "output_type": "stream",
          "name": "stdout",
          "text": [
            "34/34 - 0s - 5ms/step - loss: 0.6823 - mae: 0.6035 - val_loss: 0.6334 - val_mae: 0.6109\n",
            "Epoch 134/200\n",
            "34/34 - 0s - 5ms/step - loss: 0.6497 - mae: 0.5852 - val_loss: 0.6879 - val_mae: 0.6556\n",
            "Epoch 135/200\n",
            "34/34 - 0s - 5ms/step - loss: 0.6870 - mae: 0.6034 - val_loss: 0.6752 - val_mae: 0.6315\n",
            "Epoch 136/200\n",
            "34/34 - 0s - 5ms/step - loss: 0.6843 - mae: 0.6156 - val_loss: 0.7616 - val_mae: 0.6584\n",
            "Epoch 137/200\n"
          ]
        },
        {
          "output_type": "stream",
          "name": "stderr",
          "text": [
            "WARNING:absl:You are saving your model as an HDF5 file via `model.save()` or `keras.saving.save_model(model)`. This file format is considered legacy. We recommend using instead the native Keras format, e.g. `model.save('my_model.keras')` or `keras.saving.save_model(model, 'my_model.keras')`. \n"
          ]
        },
        {
          "output_type": "stream",
          "name": "stdout",
          "text": [
            "34/34 - 0s - 5ms/step - loss: 0.5824 - mae: 0.5696 - val_loss: 0.6007 - val_mae: 0.5964\n",
            "Epoch 138/200\n"
          ]
        },
        {
          "output_type": "stream",
          "name": "stderr",
          "text": [
            "WARNING:absl:You are saving your model as an HDF5 file via `model.save()` or `keras.saving.save_model(model)`. This file format is considered legacy. We recommend using instead the native Keras format, e.g. `model.save('my_model.keras')` or `keras.saving.save_model(model, 'my_model.keras')`. \n"
          ]
        },
        {
          "output_type": "stream",
          "name": "stdout",
          "text": [
            "34/34 - 0s - 5ms/step - loss: 0.5652 - mae: 0.5652 - val_loss: 0.5862 - val_mae: 0.5882\n",
            "Epoch 139/200\n",
            "34/34 - 0s - 4ms/step - loss: 0.5685 - mae: 0.5720 - val_loss: 0.5917 - val_mae: 0.5866\n",
            "Epoch 140/200\n"
          ]
        },
        {
          "output_type": "stream",
          "name": "stderr",
          "text": [
            "WARNING:absl:You are saving your model as an HDF5 file via `model.save()` or `keras.saving.save_model(model)`. This file format is considered legacy. We recommend using instead the native Keras format, e.g. `model.save('my_model.keras')` or `keras.saving.save_model(model, 'my_model.keras')`. \n"
          ]
        },
        {
          "output_type": "stream",
          "name": "stdout",
          "text": [
            "34/34 - 0s - 5ms/step - loss: 0.5175 - mae: 0.5282 - val_loss: 0.5812 - val_mae: 0.5743\n",
            "Epoch 141/200\n"
          ]
        },
        {
          "output_type": "stream",
          "name": "stderr",
          "text": [
            "WARNING:absl:You are saving your model as an HDF5 file via `model.save()` or `keras.saving.save_model(model)`. This file format is considered legacy. We recommend using instead the native Keras format, e.g. `model.save('my_model.keras')` or `keras.saving.save_model(model, 'my_model.keras')`. \n"
          ]
        },
        {
          "output_type": "stream",
          "name": "stdout",
          "text": [
            "34/34 - 0s - 5ms/step - loss: 0.5074 - mae: 0.5235 - val_loss: 0.5459 - val_mae: 0.5578\n",
            "Epoch 142/200\n"
          ]
        },
        {
          "output_type": "stream",
          "name": "stderr",
          "text": [
            "WARNING:absl:You are saving your model as an HDF5 file via `model.save()` or `keras.saving.save_model(model)`. This file format is considered legacy. We recommend using instead the native Keras format, e.g. `model.save('my_model.keras')` or `keras.saving.save_model(model, 'my_model.keras')`. \n"
          ]
        },
        {
          "output_type": "stream",
          "name": "stdout",
          "text": [
            "34/34 - 0s - 5ms/step - loss: 0.4731 - mae: 0.5085 - val_loss: 0.5119 - val_mae: 0.5417\n",
            "Epoch 143/200\n",
            "34/34 - 0s - 5ms/step - loss: 0.4632 - mae: 0.5049 - val_loss: 0.5406 - val_mae: 0.5498\n",
            "Epoch 144/200\n",
            "34/34 - 0s - 6ms/step - loss: 0.5132 - mae: 0.5341 - val_loss: 0.6045 - val_mae: 0.5963\n",
            "Epoch 145/200\n"
          ]
        },
        {
          "output_type": "stream",
          "name": "stderr",
          "text": [
            "WARNING:absl:You are saving your model as an HDF5 file via `model.save()` or `keras.saving.save_model(model)`. This file format is considered legacy. We recommend using instead the native Keras format, e.g. `model.save('my_model.keras')` or `keras.saving.save_model(model, 'my_model.keras')`. \n"
          ]
        },
        {
          "output_type": "stream",
          "name": "stdout",
          "text": [
            "34/34 - 0s - 5ms/step - loss: 0.4815 - mae: 0.5205 - val_loss: 0.4992 - val_mae: 0.5350\n",
            "Epoch 146/200\n"
          ]
        },
        {
          "output_type": "stream",
          "name": "stderr",
          "text": [
            "WARNING:absl:You are saving your model as an HDF5 file via `model.save()` or `keras.saving.save_model(model)`. This file format is considered legacy. We recommend using instead the native Keras format, e.g. `model.save('my_model.keras')` or `keras.saving.save_model(model, 'my_model.keras')`. \n"
          ]
        },
        {
          "output_type": "stream",
          "name": "stdout",
          "text": [
            "34/34 - 0s - 5ms/step - loss: 0.4176 - mae: 0.4804 - val_loss: 0.4429 - val_mae: 0.4947\n",
            "Epoch 147/200\n",
            "34/34 - 0s - 4ms/step - loss: 0.4304 - mae: 0.4870 - val_loss: 0.4579 - val_mae: 0.5066\n",
            "Epoch 148/200\n",
            "34/34 - 0s - 4ms/step - loss: 0.3958 - mae: 0.4694 - val_loss: 0.4718 - val_mae: 0.5117\n",
            "Epoch 149/200\n",
            "34/34 - 0s - 4ms/step - loss: 0.3786 - mae: 0.4580 - val_loss: 0.4600 - val_mae: 0.5170\n",
            "Epoch 150/200\n"
          ]
        },
        {
          "output_type": "stream",
          "name": "stderr",
          "text": [
            "WARNING:absl:You are saving your model as an HDF5 file via `model.save()` or `keras.saving.save_model(model)`. This file format is considered legacy. We recommend using instead the native Keras format, e.g. `model.save('my_model.keras')` or `keras.saving.save_model(model, 'my_model.keras')`. \n"
          ]
        },
        {
          "output_type": "stream",
          "name": "stdout",
          "text": [
            "34/34 - 0s - 5ms/step - loss: 0.3804 - mae: 0.4630 - val_loss: 0.4017 - val_mae: 0.4861\n",
            "Epoch 151/200\n",
            "34/34 - 0s - 4ms/step - loss: 0.3554 - mae: 0.4446 - val_loss: 0.4883 - val_mae: 0.5303\n",
            "Epoch 152/200\n",
            "34/34 - 0s - 4ms/step - loss: 0.3584 - mae: 0.4446 - val_loss: 0.4205 - val_mae: 0.4893\n",
            "Epoch 153/200\n",
            "34/34 - 0s - 4ms/step - loss: 0.3674 - mae: 0.4508 - val_loss: 0.4034 - val_mae: 0.4830\n",
            "Epoch 154/200\n",
            "34/34 - 0s - 4ms/step - loss: 0.3946 - mae: 0.4669 - val_loss: 0.4230 - val_mae: 0.4839\n",
            "Epoch 155/200\n",
            "34/34 - 0s - 5ms/step - loss: 0.3262 - mae: 0.4347 - val_loss: 0.4938 - val_mae: 0.5302\n",
            "Epoch 156/200\n"
          ]
        },
        {
          "output_type": "stream",
          "name": "stderr",
          "text": [
            "WARNING:absl:You are saving your model as an HDF5 file via `model.save()` or `keras.saving.save_model(model)`. This file format is considered legacy. We recommend using instead the native Keras format, e.g. `model.save('my_model.keras')` or `keras.saving.save_model(model, 'my_model.keras')`. \n"
          ]
        },
        {
          "output_type": "stream",
          "name": "stdout",
          "text": [
            "34/34 - 0s - 5ms/step - loss: 0.3031 - mae: 0.4112 - val_loss: 0.3693 - val_mae: 0.4524\n",
            "Epoch 157/200\n",
            "34/34 - 0s - 6ms/step - loss: 0.2868 - mae: 0.3964 - val_loss: 0.4429 - val_mae: 0.4908\n",
            "Epoch 158/200\n",
            "34/34 - 0s - 7ms/step - loss: 0.2986 - mae: 0.4192 - val_loss: 0.4212 - val_mae: 0.4909\n",
            "Epoch 159/200\n",
            "34/34 - 0s - 7ms/step - loss: 0.3593 - mae: 0.4467 - val_loss: 0.4001 - val_mae: 0.4882\n",
            "Epoch 160/200\n"
          ]
        },
        {
          "output_type": "stream",
          "name": "stderr",
          "text": [
            "WARNING:absl:You are saving your model as an HDF5 file via `model.save()` or `keras.saving.save_model(model)`. This file format is considered legacy. We recommend using instead the native Keras format, e.g. `model.save('my_model.keras')` or `keras.saving.save_model(model, 'my_model.keras')`. \n"
          ]
        },
        {
          "output_type": "stream",
          "name": "stdout",
          "text": [
            "34/34 - 0s - 10ms/step - loss: 0.3120 - mae: 0.4175 - val_loss: 0.3685 - val_mae: 0.4419\n",
            "Epoch 161/200\n"
          ]
        },
        {
          "output_type": "stream",
          "name": "stderr",
          "text": [
            "WARNING:absl:You are saving your model as an HDF5 file via `model.save()` or `keras.saving.save_model(model)`. This file format is considered legacy. We recommend using instead the native Keras format, e.g. `model.save('my_model.keras')` or `keras.saving.save_model(model, 'my_model.keras')`. \n"
          ]
        },
        {
          "output_type": "stream",
          "name": "stdout",
          "text": [
            "34/34 - 0s - 8ms/step - loss: 0.2714 - mae: 0.3873 - val_loss: 0.3484 - val_mae: 0.4468\n",
            "Epoch 162/200\n",
            "34/34 - 0s - 7ms/step - loss: 0.2582 - mae: 0.3819 - val_loss: 0.3555 - val_mae: 0.4588\n",
            "Epoch 163/200\n",
            "34/34 - 0s - 7ms/step - loss: 0.2987 - mae: 0.4152 - val_loss: 0.3797 - val_mae: 0.4723\n",
            "Epoch 164/200\n",
            "34/34 - 0s - 8ms/step - loss: 0.2722 - mae: 0.3886 - val_loss: 0.3832 - val_mae: 0.4791\n",
            "Epoch 165/200\n",
            "34/34 - 0s - 8ms/step - loss: 0.3059 - mae: 0.4209 - val_loss: 0.3503 - val_mae: 0.4459\n",
            "Epoch 166/200\n"
          ]
        },
        {
          "output_type": "stream",
          "name": "stderr",
          "text": [
            "WARNING:absl:You are saving your model as an HDF5 file via `model.save()` or `keras.saving.save_model(model)`. This file format is considered legacy. We recommend using instead the native Keras format, e.g. `model.save('my_model.keras')` or `keras.saving.save_model(model, 'my_model.keras')`. \n"
          ]
        },
        {
          "output_type": "stream",
          "name": "stdout",
          "text": [
            "34/34 - 0s - 6ms/step - loss: 0.2659 - mae: 0.3878 - val_loss: 0.3359 - val_mae: 0.4470\n",
            "Epoch 167/200\n",
            "34/34 - 0s - 4ms/step - loss: 0.2994 - mae: 0.4095 - val_loss: 0.4963 - val_mae: 0.5126\n",
            "Epoch 168/200\n"
          ]
        },
        {
          "output_type": "stream",
          "name": "stderr",
          "text": [
            "WARNING:absl:You are saving your model as an HDF5 file via `model.save()` or `keras.saving.save_model(model)`. This file format is considered legacy. We recommend using instead the native Keras format, e.g. `model.save('my_model.keras')` or `keras.saving.save_model(model, 'my_model.keras')`. \n"
          ]
        },
        {
          "output_type": "stream",
          "name": "stdout",
          "text": [
            "34/34 - 0s - 5ms/step - loss: 0.2687 - mae: 0.3912 - val_loss: 0.3332 - val_mae: 0.4444\n",
            "Epoch 169/200\n",
            "34/34 - 0s - 4ms/step - loss: 0.2429 - mae: 0.3722 - val_loss: 0.4036 - val_mae: 0.4710\n",
            "Epoch 170/200\n",
            "34/34 - 0s - 4ms/step - loss: 0.2553 - mae: 0.3801 - val_loss: 0.3400 - val_mae: 0.4492\n",
            "Epoch 171/200\n"
          ]
        },
        {
          "output_type": "stream",
          "name": "stderr",
          "text": [
            "WARNING:absl:You are saving your model as an HDF5 file via `model.save()` or `keras.saving.save_model(model)`. This file format is considered legacy. We recommend using instead the native Keras format, e.g. `model.save('my_model.keras')` or `keras.saving.save_model(model, 'my_model.keras')`. \n"
          ]
        },
        {
          "output_type": "stream",
          "name": "stdout",
          "text": [
            "34/34 - 0s - 5ms/step - loss: 0.2327 - mae: 0.3581 - val_loss: 0.3263 - val_mae: 0.4385\n",
            "Epoch 172/200\n",
            "34/34 - 0s - 4ms/step - loss: 0.2371 - mae: 0.3712 - val_loss: 0.3553 - val_mae: 0.4555\n",
            "Epoch 173/200\n",
            "34/34 - 0s - 4ms/step - loss: 0.2771 - mae: 0.3905 - val_loss: 0.3388 - val_mae: 0.4501\n",
            "Epoch 174/200\n",
            "34/34 - 0s - 4ms/step - loss: 0.2377 - mae: 0.3666 - val_loss: 0.3582 - val_mae: 0.4553\n",
            "Epoch 175/200\n"
          ]
        },
        {
          "output_type": "stream",
          "name": "stderr",
          "text": [
            "WARNING:absl:You are saving your model as an HDF5 file via `model.save()` or `keras.saving.save_model(model)`. This file format is considered legacy. We recommend using instead the native Keras format, e.g. `model.save('my_model.keras')` or `keras.saving.save_model(model, 'my_model.keras')`. \n"
          ]
        },
        {
          "output_type": "stream",
          "name": "stdout",
          "text": [
            "34/34 - 0s - 5ms/step - loss: 0.2393 - mae: 0.3654 - val_loss: 0.3062 - val_mae: 0.4235\n",
            "Epoch 176/200\n",
            "34/34 - 0s - 4ms/step - loss: 0.2090 - mae: 0.3380 - val_loss: 0.3419 - val_mae: 0.4454\n",
            "Epoch 177/200\n",
            "34/34 - 0s - 5ms/step - loss: 0.2335 - mae: 0.3677 - val_loss: 0.3393 - val_mae: 0.4492\n",
            "Epoch 178/200\n",
            "34/34 - 0s - 4ms/step - loss: 0.2325 - mae: 0.3624 - val_loss: 0.3367 - val_mae: 0.4471\n",
            "Epoch 179/200\n",
            "34/34 - 0s - 4ms/step - loss: 0.2123 - mae: 0.3472 - val_loss: 0.3069 - val_mae: 0.4226\n",
            "Epoch 180/200\n",
            "34/34 - 0s - 4ms/step - loss: 0.2136 - mae: 0.3426 - val_loss: 0.3950 - val_mae: 0.4802\n",
            "Epoch 181/200\n",
            "34/34 - 0s - 4ms/step - loss: 0.2419 - mae: 0.3728 - val_loss: 0.3913 - val_mae: 0.4621\n",
            "Epoch 182/200\n"
          ]
        },
        {
          "output_type": "stream",
          "name": "stderr",
          "text": [
            "WARNING:absl:You are saving your model as an HDF5 file via `model.save()` or `keras.saving.save_model(model)`. This file format is considered legacy. We recommend using instead the native Keras format, e.g. `model.save('my_model.keras')` or `keras.saving.save_model(model, 'my_model.keras')`. \n"
          ]
        },
        {
          "output_type": "stream",
          "name": "stdout",
          "text": [
            "34/34 - 0s - 5ms/step - loss: 0.2334 - mae: 0.3657 - val_loss: 0.3040 - val_mae: 0.4220\n",
            "Epoch 183/200\n"
          ]
        },
        {
          "output_type": "stream",
          "name": "stderr",
          "text": [
            "WARNING:absl:You are saving your model as an HDF5 file via `model.save()` or `keras.saving.save_model(model)`. This file format is considered legacy. We recommend using instead the native Keras format, e.g. `model.save('my_model.keras')` or `keras.saving.save_model(model, 'my_model.keras')`. \n"
          ]
        },
        {
          "output_type": "stream",
          "name": "stdout",
          "text": [
            "34/34 - 0s - 5ms/step - loss: 0.2294 - mae: 0.3729 - val_loss: 0.2733 - val_mae: 0.4021\n",
            "Epoch 184/200\n",
            "34/34 - 0s - 5ms/step - loss: 0.2055 - mae: 0.3372 - val_loss: 0.2800 - val_mae: 0.4158\n",
            "Epoch 185/200\n",
            "34/34 - 0s - 4ms/step - loss: 0.2068 - mae: 0.3415 - val_loss: 0.2961 - val_mae: 0.4141\n",
            "Epoch 186/200\n",
            "34/34 - 0s - 4ms/step - loss: 0.2671 - mae: 0.3917 - val_loss: 0.3734 - val_mae: 0.4659\n",
            "Epoch 187/200\n",
            "34/34 - 0s - 4ms/step - loss: 0.2214 - mae: 0.3588 - val_loss: 0.3148 - val_mae: 0.4376\n",
            "Epoch 188/200\n"
          ]
        },
        {
          "output_type": "stream",
          "name": "stderr",
          "text": [
            "WARNING:absl:You are saving your model as an HDF5 file via `model.save()` or `keras.saving.save_model(model)`. This file format is considered legacy. We recommend using instead the native Keras format, e.g. `model.save('my_model.keras')` or `keras.saving.save_model(model, 'my_model.keras')`. \n"
          ]
        },
        {
          "output_type": "stream",
          "name": "stdout",
          "text": [
            "34/34 - 0s - 5ms/step - loss: 0.2529 - mae: 0.3866 - val_loss: 0.2722 - val_mae: 0.3994\n",
            "Epoch 189/200\n",
            "34/34 - 0s - 4ms/step - loss: 0.2013 - mae: 0.3290 - val_loss: 0.3761 - val_mae: 0.4723\n",
            "Epoch 190/200\n",
            "34/34 - 0s - 4ms/step - loss: 0.2197 - mae: 0.3501 - val_loss: 0.2886 - val_mae: 0.4169\n",
            "Epoch 191/200\n",
            "34/34 - 0s - 5ms/step - loss: 0.2014 - mae: 0.3373 - val_loss: 0.3069 - val_mae: 0.4329\n",
            "Epoch 192/200\n",
            "34/34 - 0s - 4ms/step - loss: 0.2150 - mae: 0.3508 - val_loss: 0.4106 - val_mae: 0.4791\n",
            "Epoch 193/200\n",
            "34/34 - 0s - 4ms/step - loss: 0.2388 - mae: 0.3632 - val_loss: 0.6147 - val_mae: 0.5623\n",
            "Epoch 194/200\n",
            "34/34 - 0s - 4ms/step - loss: 0.2290 - mae: 0.3527 - val_loss: 0.2929 - val_mae: 0.4189\n",
            "Epoch 195/200\n",
            "34/34 - 0s - 4ms/step - loss: 0.2068 - mae: 0.3393 - val_loss: 0.3006 - val_mae: 0.4255\n",
            "Epoch 196/200\n",
            "34/34 - 0s - 4ms/step - loss: 0.2396 - mae: 0.3572 - val_loss: 0.2887 - val_mae: 0.4075\n",
            "Epoch 197/200\n",
            "34/34 - 0s - 4ms/step - loss: 0.1925 - mae: 0.3217 - val_loss: 0.2763 - val_mae: 0.4024\n",
            "Epoch 198/200\n",
            "34/34 - 0s - 9ms/step - loss: 0.1864 - mae: 0.3298 - val_loss: 0.3365 - val_mae: 0.4370\n",
            "Epoch 199/200\n",
            "34/34 - 0s - 9ms/step - loss: 0.1944 - mae: 0.3270 - val_loss: 0.3675 - val_mae: 0.4645\n",
            "Epoch 200/200\n",
            "34/34 - 0s - 4ms/step - loss: 0.1991 - mae: 0.3337 - val_loss: 0.3222 - val_mae: 0.4377\n"
          ]
        }
      ]
    },
    {
      "cell_type": "markdown",
      "source": [
        "Plot training curves"
      ],
      "metadata": {
        "id": "EMfLO8nDcfV6"
      }
    },
    {
      "cell_type": "code",
      "source": [
        "plt.plot(history.history['loss'], label='train_loss')\n",
        "plt.plot(history.history['val_loss'], label='val_loss')\n",
        "plt.yscale('log')  # optional for clarity\n",
        "plt.xlabel('epoch'); plt.ylabel('MSE loss'); plt.legend(); plt.show()\n",
        "\n",
        "plt.plot(history.history['mae'], label='train_mae')\n",
        "plt.plot(history.history['val_mae'], label='val_mae')\n",
        "plt.xlabel('epoch'); plt.ylabel('MAE'); plt.legend(); plt.show()\n"
      ],
      "metadata": {
        "colab": {
          "base_uri": "https://localhost:8080/",
          "height": 881
        },
        "id": "R0vc7cggcg70",
        "outputId": "08026c9d-47cd-4735-e7bd-4fd61cf5e476"
      },
      "execution_count": 14,
      "outputs": [
        {
          "output_type": "display_data",
          "data": {
            "text/plain": [
              "<Figure size 640x480 with 1 Axes>"
            ],
            "image/png": "[encoded data removed]"
          },
          "metadata": {}
        },
        {
          "output_type": "display_data",
          "data": {
            "text/plain": [
              "<Figure size 640x480 with 1 Axes>"
            ],
            "image/png": "[encoded data removed]"
          },
          "metadata": {}
        }
      ]
    },
    {
      "cell_type": "markdown",
      "source": [
        "Evaluate on test set"
      ],
      "metadata": {
        "id": "broR8brjcvnb"
      }
    },
    {
      "cell_type": "code",
      "source": [
        "test_loss, test_mae = model.evaluate(X_test_scaled, y_test, verbose=0)\n",
        "print(f\"Test MAE: {test_mae:.3f}\")\n"
      ],
      "metadata": {
        "colab": {
          "base_uri": "https://localhost:8080/"
        },
        "id": "HBheRrIAcu_A",
        "outputId": "195d1f64-a297-4a2c-db37-06a8b9382a8a"
      },
      "execution_count": 15,
      "outputs": [
        {
          "output_type": "stream",
          "name": "stdout",
          "text": [
            "Test MAE: 0.437\n"
          ]
        }
      ]
    },
    {
      "cell_type": "markdown",
      "source": [
        "Predict & compare"
      ],
      "metadata": {
        "id": "yoUuYvFPyPeR"
      }
    },
    {
      "cell_type": "code",
      "source": [
        "preds = model.predict(X_test_scaled).flatten()\n",
        "for i in range(10):\n",
        "    print(f\"pred: {preds[i]:.2f}   actual: {y_test.iloc[i]:.2f}   error: {preds[i]-y_test.iloc[i]:.2f}\")\n"
      ],
      "metadata": {
        "colab": {
          "base_uri": "https://localhost:8080/"
        },
        "id": "M2fov46EyQ_A",
        "outputId": "68907d9e-dbb3-442c-8bc2-bcc1e8e805fb"
      },
      "execution_count": 16,
      "outputs": [
        {
          "output_type": "stream",
          "name": "stdout",
          "text": [
            "\u001b[1m4/4\u001b[0m \u001b[32m━━━━━━━━━━━━━━━━━━━━\u001b[0m\u001b[37m\u001b[0m \u001b[1m0s\u001b[0m 18ms/step\n",
            "pred: 16.94   actual: 16.47   error: 0.47\n",
            "pred: 13.33   actual: 13.17   error: 0.16\n",
            "pred: 32.92   actual: 32.82   error: 0.10\n",
            "pred: 42.00   actual: 41.32   error: 0.68\n",
            "pred: 17.06   actual: 16.69   error: 0.37\n",
            "pred: 23.28   actual: 23.80   error: -0.52\n",
            "pred: 24.16   actual: 24.31   error: -0.15\n",
            "pred: 28.63   actual: 28.67   error: -0.04\n",
            "pred: 18.69   actual: 19.52   error: -0.83\n",
            "pred: 28.78   actual: 28.07   error: 0.71\n"
          ]
        }
      ]
    },
    {
      "cell_type": "markdown",
      "source": [
        "Save & load model"
      ],
      "metadata": {
        "id": "Xq4nYmfs3zS_"
      }
    },
    {
      "cell_type": "code",
      "source": [
        "model.compile(optimizer='adam',\n",
        "              loss='mean_squared_error',\n",
        "              metrics=['mean_absolute_error'])\n"
      ],
      "metadata": {
        "id": "yGbJMrh_428O"
      },
      "execution_count": 24,
      "outputs": []
    },
    {
      "cell_type": "code",
      "source": [
        "model.save(\"energy_model.keras\")\n"
      ],
      "metadata": {
        "id": "jCQILO_y46bu"
      },
      "execution_count": 25,
      "outputs": []
    },
    {
      "cell_type": "code",
      "source": [
        "import matplotlib.pyplot as plt\n",
        "\n",
        "# Plot training vs validation loss\n",
        "plt.plot(history.history['loss'], label='Train Loss')\n",
        "plt.plot(history.history['val_loss'], label='Validation Loss')\n",
        "plt.xlabel('Epochs')\n",
        "plt.ylabel('Loss (MSE)')\n",
        "plt.title('Model Training and Validation Loss')\n",
        "plt.legend()\n",
        "plt.show()\n"
      ],
      "metadata": {
        "colab": {
          "base_uri": "https://localhost:8080/",
          "height": 472
        },
        "id": "_n4a7JPc7noH",
        "outputId": "208d5848-5624-4b8a-9a40-d4a15fdedcb0"
      },
      "execution_count": 35,
      "outputs": [
        {
          "output_type": "display_data",
          "data": {
            "text/plain": [
              "<Figure size 640x480 with 1 Axes>"
            ],
            "image/png": "[encoded data removed]"
          },
          "metadata": {}
        }
      ]
    },
    {
      "cell_type": "code",
      "source": [
        "from tensorflow.keras.models import load_model\n",
        "loaded_model = load_model(\"energy_model.keras\")\n",
        "\n",
        "# (optional) recompile again just in case\n",
        "loaded_model.compile(optimizer='adam',\n",
        "                     loss='mean_squared_error',\n",
        "                     metrics=['mean_absolute_error'])\n",
        "\n",
        "# test it\n",
        "loss, mae = loaded_model.evaluate(X_test, y_test)\n",
        "print(\"Reloaded Model Test MAE:\", mae)\n"
      ],
      "metadata": {
        "colab": {
          "base_uri": "https://localhost:8080/"
        },
        "id": "HWrToWp34_Mn",
        "outputId": "0b2e51aa-afd7-42a1-d7c1-e85abb14f931"
      },
      "execution_count": 36,
      "outputs": [
        {
          "output_type": "stream",
          "name": "stderr",
          "text": [
            "/usr/local/lib/python3.12/dist-packages/keras/src/saving/saving_lib.py:802: UserWarning: Skipping variable loading for optimizer 'adam', because it has 14 variables whereas the saved optimizer has 2 variables. \n",
            "  saveable.load_own_variables(weights_store.get(inner_path))\n"
          ]
        },
        {
          "output_type": "stream",
          "name": "stdout",
          "text": [
            "\u001b[1m4/4\u001b[0m \u001b[32m━━━━━━━━━━━━━━━━━━━━\u001b[0m\u001b[37m\u001b[0m \u001b[1m1s\u001b[0m 9ms/step - loss: 1199689.7500 - mean_absolute_error: 980.5881  \n",
            "Reloaded Model Test MAE: 993.4468994140625\n"
          ]
        }
      ]
    },
    {
      "cell_type": "code",
      "source": [
        "loss, mae = loaded_model.evaluate(X_test, y_test, verbose=0)\n",
        "print(\"Reloaded Model Test MAE:\", mae)\n",
        "\n",
        "# Example prediction\n",
        "sample = X_test[:5]\n",
        "pred = loaded_model.predict(sample)\n",
        "print(\"Predicted Energy Efficiency:\", pred)\n"
      ],
      "metadata": {
        "colab": {
          "base_uri": "https://localhost:8080/"
        },
        "id": "VYJ4P7rz5rvQ",
        "outputId": "69247034-6585-4f02-e08c-0fd5197e8109"
      },
      "execution_count": 34,
      "outputs": [
        {
          "output_type": "stream",
          "name": "stdout",
          "text": [
            "Reloaded Model Test MAE: 993.4468994140625\n",
            "\u001b[1m1/1\u001b[0m \u001b[32m━━━━━━━━━━━━━━━━━━━━\u001b[0m\u001b[37m\u001b[0m \u001b[1m0s\u001b[0m 37ms/step\n",
            "Predicted Energy Efficiency: [[1308.9861 ]\n",
            " [1435.9567 ]\n",
            " [ 458.2692 ]\n",
            " [ 696.15533]\n",
            " [1372.8823 ]]\n"
          ]
        }
      ]
    }
  ]
}